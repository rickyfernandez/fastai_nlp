{
 "cells": [
  {
   "cell_type": "code",
   "execution_count": 1,
   "metadata": {},
   "outputs": [],
   "source": [
    "%reload_ext autoreload\n",
    "%autoreload 2\n",
    "%matplotlib inline"
   ]
  },
  {
   "cell_type": "code",
   "execution_count": 2,
   "metadata": {},
   "outputs": [],
   "source": [
    "from fastai import *\n",
    "from fastai.text import *"
   ]
  },
  {
   "cell_type": "code",
   "execution_count": 3,
   "metadata": {},
   "outputs": [],
   "source": [
    "bs = 64"
   ]
  },
  {
   "cell_type": "code",
   "execution_count": 6,
   "metadata": {},
   "outputs": [
    {
     "data": {
      "text/plain": [
       "[PosixPath('/Users/ricardofernandez/.fastai/data/imdb_sample/texts.csv')]"
      ]
     },
     "execution_count": 6,
     "metadata": {},
     "output_type": "execute_result"
    }
   ],
   "source": [
    "path = untar_data(URLs.IMDB_SAMPLE)\n",
    "path.ls()"
   ]
  },
  {
   "cell_type": "code",
   "execution_count": 7,
   "metadata": {},
   "outputs": [
    {
     "name": "stdout",
     "output_type": "stream",
     "text": [
      "label,text,is_valid\r\n",
      "negative,\"Un-bleeping-believable! Meg Ryan doesn't even look her usual pert lovable self in this, which normally makes me forgive her shallow ticky acting schtick. Hard to believe she was the producer on this dog. Plus Kevin Kline: what kind of suicide trip has his career been on? Whoosh... Banzai!!! Finally this was directed by the guy who did Big Chill? Must be a replay of Jonestown - hollywood style. Wooofff!\",False\r\n",
      "positive,\"This is a extremely well-made film. The acting, script and camera-work are all first-rate. The music is good, too, though it is mostly early in the film, when things are still relatively cheery. There are no really superstars in the cast, though several faces will be familiar. The entire cast does an excellent job with the script.<br /><br />But it is hard to watch, because there is no good end to a situation like the one presented. It is now fashionable to blame the British for setting Hindus and Muslims against each other, and then cruelly separating them into two countries. There is some merit in this view, but it's also true that no one forced Hindus and Muslims in the region to mistreat each other as they did around the time of partition. It seems more likely that the British simply saw the tensions between the religions and were clever enough to exploit them to their own ends.<br /><br />The result is that there is much cruelty and inhumanity in the situation and this is very unpleasant to remember and to see on the screen. But it is never painted as a black-and-white case. There is baseness and nobility on both sides, and also the hope for change in the younger generation.<br /><br />There is redemption of a sort, in the end, when Puro has to make a hard choice between a man who has ruined her life, but also truly loved her, and her family which has disowned her, then later come looking for her. But by that point, she has no option that is without great pain for her.<br /><br />This film carries the message that both Muslims and Hindus have their grave faults, and also that both can be dignified and caring people. The reality of partition makes that realisation all the more wrenching, since there can never be real reconciliation across the India/Pakistan border. In that sense, it is similar to \"\"Mr & Mrs Iyer\"\".<br /><br />In the end, we were glad to have seen the film, even though the resolution was heartbreaking. If the UK and US could deal with their own histories of racism with this kind of frankness, they would certainly be better off.\",False\r\n",
      "negative,\"Every once in a long while a movie will come along that will be so awful that I feel compelled to warn people. If I labor all my days and I can save but one soul from watching this movie, how great will be my joy.<br /><br />Where to begin my discussion of pain. For starters, there was a musical montage every five minutes. There was no character development. Every character was a stereotype. We had swearing guy, fat guy who eats donuts, goofy foreign guy, etc. The script felt as if it were being written as the movie was being shot. The production value was so incredibly low that it felt like I was watching a junior high video presentation. Have the directors, producers, etc. ever even seen a movie before? Halestorm is getting worse and worse with every new entry. The concept for this movie sounded so funny. How could you go wrong with Gary Coleman and a handful of somewhat legitimate actors. But trust me when I say this, things went wrong, VERY WRONG.\",False\r\n",
      "positive,\"Name just says it all. I watched this movie with my dad when it came out and having served in Korea he had great admiration for the man. The disappointing thing about this film is that it only concentrate on a short period of the man's life - interestingly enough the man's entire life would have made such an epic bio-pic that it is staggering to imagine the cost for production.<br /><br />Some posters elude to the flawed characteristics about the man, which are cheap shots. The theme of the movie \"\"Duty, Honor, Country\"\" are not just mere words blathered from the lips of a high-brassed officer - it is the deep declaration of one man's total devotion to his country.<br /><br />Ironically Peck being the liberal that he was garnered a better understanding of the man. He does a great job showing the fearless general tempered with the humane side of the man.\",False\r\n",
      "negative,\"This movie succeeds at being one of the most unique movies you've seen. However this comes from the fact that you can't make heads or tails of this mess. It almost seems as a series of challenges set up to determine whether or not you are willing to walk out of the movie and give up the money you just paid. If you don't want to feel slighted you'll sit through this horrible film and develop a real sense of pity for the actors involved, they've all seen better days, but then you realize they actually got paid quite a bit of money to do this and you'll lose pity for them just like you've already done for the film. I can't go on enough about this horrible movie, its almost something that Ed Wood would have made and in that case it surely would have been his masterpiece.<br /><br />To start you are forced to sit through an opening dialogue the likes of which you've never seen/heard, this thing has got to be five minutes long. On top of that it is narrated, as to suggest that you the viewer cannot read. Then we meet Mr. Slater and the barrage of terrible lines gets underway, it is as if he is operating solely to get lines on to the movie poster tag line. Soon we meet Stephen Dorff, who I typically enjoy) and he does his best not to drown in this but ultimately he does. Then comes the ultimate insult, Tara Reid playing an intelligent role, oh help us! Tara Reid is not a very talented actress and somehow she continually gets roles in movies, in my opinion though she should stick to movies of the American pie type. <br /><br />All in all you just may want to see this for yourself when it comes out on video, I know that I got a kick out of it, I mean lets all be honest here, sometimes its comforting to revel in the shortcomings of others.\",False\r\n",
      "negative,\"From the start, you know how this movie will end. It's so full of clichés your typical NRA member will not even like this movie. I give it 2 out of 10, only because of the acting of William Benton. I can't believe people voted 6+ for this movie. It's so biased towards a 'certain point of view' (once a thief...). People aren't born bad. Neither are they born good. They are born with a clean slate. It's society, parents and education what makes them who they are. And if they take the wrong turn, somewhere down the line, it certainly isn't going to be the American penal system that gets them back on track! Anyway, avoid this movie like the plague. I bet you have better things to do with your time than waste it on this piece of crap.<br /><br />\",False\r\n",
      "negative,\"There were a lot of truly great horror movies produced in the seventies - but this film certainly isn't one of them! It's a shame The Child isn't better as it works from a decent idea that takes in a couple of sometimes successful horror themes. We have the idea of a vengeful child, which worked so well in classic films such as The Bad Seed and then we have the central zombie theme, which of course has been the backbone of many a successful horror movie. The plot is basically this: young girl blames a load of people for the death of her mother, so she goes to the graveyard and raises the dead to get revenge (as you do). This is all well and good, except for the fact that it's boring! Nothing happens for most of the film, and although it does pick up at the end with some nice gore; it's not enough of a finale to justify sitting through the rest of it. The film was obviously shot on a budget as the locations look cheap and all the actors are rubbish. There's really not much I can say about the film overall as there isn't much to it. The Child is a dismal seventies horror flick and I certainly don't recommend it.\",False\r\n",
      "negative,\"I was fortunate enough to meet George Pal (and still have my DS:TMOB poster autographed by him) at a convention shortly after the release, and asked him why he chose to do the film \"\"camp\"\". Before he could answer, two studio flacks intercepted and lectured me on how the studio \"\"knew best\"\" and how \"\"no one will take such a film seriously\"\". I had been reading the Bantam reprints for a couple of years thanks to a friend (ComiCon attendees of the 1970s will recall Blackhawk and his band? I was in a couple of years of that with him), and had higher hopes than what we got.<br /><br />The flacks insisted that no high adventure would ever be done seriously, and so doing 'camp' was the only way. Several other fans jumped in on my side, with Pal listening as best he could. At the end of the little event, Pal came up to us and apologized, wishing he could have done more and better.<br /><br />STAR WARS put the lie to the flacks, and a year after Pal's death, Spielberg and Lucas proved that Doc Savage could have easily been the next major movie franchise...if it hadn't been for the flacks.<br /><br />Tear out the memory or history of Doc, and the film would have been worth a 6/10 rating as nothing more than a mindless popcorn seller.<br /><br />But destroying the legacy like that was no less an abomination than killing a baby in the crib.<br /><br />Doc Savage can still come to the screen, and survive the inevitable comparisons by the ill-informed to Indiana Jones, but it would have to be done in all seriousness and earnest to reclaim the glory that we should expect from the First American Superhero.<br /><br />SIDENOTES: Yes, there was a second script for ARCHENEMY OF EVIL, and it's a lot more serious. Yes, there was simultaneous footage shot, but mostly establishing shots and very little with actors. And, yes, there _is_ a one-sheet of Ron Ely leaping over a brick wall and blasting at something over his shoulder with a specially built bronze pistol. Ely's wearing a duster over a button down white shirt with a bronze tie, and the words \"\"DOC SAVAGE: ARCHENEMY OF EVIL...Coming Next Summer!\"\" POSTSCRIPT: If anyone knows who the studio flacks were that accompanied George Pal in 1975 to San Diego for the convention, smack the idiots up the side of the head and call them the idiots that they are. At the time, they were doing dorkknobs and Fu Manchu in stripes and baggy canvas pants, and carrying Paramount portfolios.\",False\r\n",
      "negative,\"This film is the freshman effort of Stephanie Beaton and her new production company. While it suffers from a few problems, as every low budget production does, it is a good start for Ms. Beaton and her company.<br /><br />The story is not terribly new having been done in films like The Burning and every Friday the 13th since part 2. But, the performances are heartfelt. So many big budget movies just have the actors going through the motions, its always nice to see actors really trying to hone their craft.<br /><br />The story deals with the murder(and possible return) of a disfigured classmate. The others are sworn to secrecy, but the trauma of the event sends each person in different directions in their lifes. Ten years later, the friends are murdered one by one by a gruesome stalker known as \"\"The Bagman\"\". Who will survive? You have to watch.<br /><br />If you are Roger Ebert or any number of arrogant critics, you probably shouldn't bother. But if your taste run more towards Joe Bob Briggs and you want to see a group of people honing their craft, then check out \"\"The Bagman\"\".\",False\r\n"
     ]
    }
   ],
   "source": [
    "!head /Users/ricardofernandez/.fastai/data/imdb_sample/texts.csv"
   ]
  },
  {
   "cell_type": "code",
   "execution_count": 8,
   "metadata": {},
   "outputs": [],
   "source": [
    "data_lm = TextDataBunch.from_csv(path, 'texts.csv')"
   ]
  },
  {
   "cell_type": "code",
   "execution_count": 9,
   "metadata": {},
   "outputs": [
    {
     "data": {
      "text/plain": [
       "TextClasDataBunch;\n",
       "\n",
       "Train: LabelList (799 items)\n",
       "x: TextList\n",
       "xxbos i have just lost three hours of my life to this travesty , and i can honestly say i feel violated . i had read the reviews and heard the warnings , and i thought i was prepared for anything - at best i thought , a faithful ( if misguided ) attempt at an original adaptation ; at worst , a so - good - xxunk - bad \" xxmaj plan 9 \" for the new millennium . xxmaj so when i managed to pick up a copy in xxmaj walmart while in xxmaj florida and brought it back to the xxup uk , i joked to my friends \" xxmaj prepare for the worst movie ever made ! \" xxmaj oh , cruel xxmaj karma . xxmaj there is absolutely xxup nothing to recommend this film . xxmaj the \" special \" effects look like the work of a first year design student using a xxmaj xxunk xxup xxunk . xxmaj the acting is terrible , the accents are xxup worse than terrible ( one artillery xxunk ' accent seems to take us on a tour of the xxmaj british xxmaj xxunk , from xxmaj scotland to xxmaj xxunk via xxmaj xxunk xxmaj ireland ) , the dialogue is stilted , the editing is non - existent , the production values prove that no expense has been gone to . xxmaj words really can not describe how bad this movie is ; from the xxmaj union xxmaj flag flying from the horribly xxunk xxmaj xxunk ( the xxmaj royal xxmaj navy flies the xxmaj white xxmaj xxunk , xxup not the xxmaj union flag ) to the xxunk ridden acting , this is quite simply a crime against film making . xxmaj when you consider some of the literally - zero - budget fan films that are available on the ' net ( the xxmaj star xxmaj wars short \" xxmaj troops \" for example ) , the whole \" we 're xxunk amateurs \" argument goes right out of the window . xxmaj and if you believe an interview with xxmaj hines on the xxmaj xxunk website , this film had an 8 figure budget ! i can only assume that xxunk facial hair does not come cheap in the xxup us . xxmaj maybe the problem is that xxmaj hines & co tried to make a film of the book , rather than turn the book into a film ( if that makes any sense ) . xxmaj characters and extras spout chunks of text xxunk without trying to convey the feelings behind the words . xxmaj ironically enough , the xxup only person who even came close to giving a decent performance was xxmaj darlene xxmaj sellers , the ex - soft porn actress . xxmaj my advice ? xxmaj pray like crazy that xxmaj jeff xxmaj wayne does n't screw up , and go watch the xxmaj spielberg version . xxmaj it may not be true to the text of the book , but i can say this ; xxmaj as a lifelong xxup hg xxmaj wells fan ( and xxmaj xxunk as well ) xxmaj xxunk film xxup is true to the xxmaj spirit of the book . xxmaj maybe customs were wrong to let me carry this monster into the country , but i will say this : xxmaj timothy xxmaj hines stole three hours of my life , and i want them back .,xxbos xxmaj this film is brilliant ! xxmaj it touches everyone who sees it in an extraordinary way . xxmaj it really takes you back to your youth and puts a new perspective on how you view your childhood memories . xxmaj there are so many xxunk to this film . xxmaj it is innovative and absolutely fabulous !,xxbos i rented this shortly after renting xxmaj ben xxmaj stein 's \" xxmaj expelled \" and thought it would interesting to compare them . xxmaj before i go further , it seems only fair that i point out the following so a reader can see if i 'm xxunk or not . i 'm trying to be objective , for the record . \n",
       " \n",
       "  i tend to enjoy xxmaj maher 's xxup xxunk show now and then , though i rarely think he 's the source of the humor . i do n't really care for his stand - up either . xxmaj but he makes some good points on the show now and again , and i liked xxmaj politically xxmaj incorrect , though he was still fairly politically correct ( which i deem a negative because the very term sounds xxmaj orwellian or at least fascist ) . xxmaj as for my religious views , i 'll say for simplicity 's sake that i 'm a non - xxunk . xxmaj christian with some views that are xxunk and some that are agnostic mixed in . \n",
       " \n",
       "  xxmaj that being said , this a bad \" documentary \" for reasons that have n't been touched on yet by many reviewers -- though the ones mentioned are xxunk too . xxmaj the reason it 's not convincing is n't just that he argues the main point without letting others talk ( and his point boils down to nothing logical either , it 's just \" come on , really ? \" which is n't a point , just a question . xxmaj try xxmaj david xxmaj xxunk if you want a decent argument . ) . xxmaj the reason this is n't convincing lies in his lack of experts on the subject matter . i saw this about 2 months ago and i only recall him talking to one person whose credentials as a professional were mentioned if he was n't a xxunk . xxmaj there are probably hundreds of scientists or at least professors with xxmaj masters or xxmaj xxunk willing to do a bit of xxunk xxunk , particularly in the fields of xxmaj history , xxmaj xxunk or a host of others . \n",
       " \n",
       "  xxmaj if one compares this to xxmaj ben xxmaj stein 's \" xxmaj expelled : xxmaj no xxmaj intelligence xxmaj allowed \" he 'll find that xxmaj stein interviews about 30 xxunk professors , professionals , xxunk , etc . xxmaj he does this with a variety of sources with various backgrounds . xxmaj he also makes a point in his film regarding freedom of thought and education . xxmaj maher could easily have pointed out wrongs committed by xxunk rules throughout centuries or xxunk from this . xxmaj instead he xxunk refers to the 20th century 's secular totalitarian xxunk as evidence of why xxunk needs more socio - political power xxrep 4 ! ( it 's in the bonus features where he 's standing in front of the xxmaj anne xxmaj frank house i think . ) xxmaj this is a true xxmaj orwellian head - trip . xxmaj he blames xxmaj christianity in particular on many pointless deaths -- which has had its share , though far smaller than xxunk even including a basic view of the evidence . xxmaj perhaps this is because that argument is xxunk by secular xxunk 's miserable record of the 20th xxmaj century xxup alone . \n",
       " \n",
       "  xxmaj another glaring weakness is his xxunk to talk to anyone that would be considered a moderate or \" average \" xxunk . xxmaj he picks out the weakest xxunk of the xxunk . xxmaj how difficult is that ? xxmaj how does proving the existence of exceptions move toward xxunk the general rule ? xxmaj it does not . xxmaj wow , so people in xxunk think outside of the norm ? xxmaj how enlightening to know this . xxmaj great work xxmaj maher ! xxmaj again , it would be fairly easy to interview someone like xxmaj laurence xxmaj vance and include his work on xxunk the idea of \" patriotic duty \" that demands a person fight in any war his country is involved in . \n",
       " \n",
       "  xxmaj beyond all that , he 's just not that funny here . xxmaj some of the clips that are xxunk in \" clever \" out of context / irreverent ways might garner a laugh , but mostly work to illustrate how a real contextual argument from xxmaj maher will xxup not be xxunk , much less convincing . xxmaj he spends most of his time bashing xxmaj xxunk , xxunk inaccuracies , and interviewing xxunk groups that he does n't allow to really answer his questions . \n",
       " \n",
       "  xxmaj for the record , there are good questions to honestly ask of religious folks and many they should ask of themselves . xxmaj he touches on almost none of these . i get the feeling that i could 've xxunk much better to most of his questioning than the people he interviewed , but the whole thing reeks of deck - stacking in terms of what is included and what was edited out .,xxbos xxmaj xxunk was great with xxmaj million $ xxmaj hotel . i do n't know how he came up with this film ! xxmaj the idea of giving the situation after xxunk and the view of xxmaj american xxmaj society is xxunk , that makes it 2 out of ten . xxmaj but this is not a movie . xxmaj is that the best someone can do with a great xxunk west - east xxunk are important things going on in middle east and it is just xxunk on the screen of a xxup mac * with the fingers of an xxmaj xxunk girl who is actually at the level of xxunk she is just ignorant about the xxunk characters are not well shaped . xxmaj and the most important thing is the idea that is given with religion is somehow funny to me . xxmaj at the ending scene xxmaj xxunk says lets just be quiet and try to listen . xxmaj and the background music says \" ... i will xxunk . xxmaj the thing is not about religion actually . xxmaj but it ends up with this . xxmaj how you are gon na see the truth if you just close your eyes and pray . xxmaj the lights are already shining on the truth . xxmaj its just that nobody wants to see it . ps : \" xxmaj my home is not a place . xxmaj it is xxunk only thing that gets 10 out of 10 is that sentence . xxmaj but it is wasted behind this film making . ( by the way ; as \" someone \" mentioned below , xxmaj xxunk finest young man are not finest , they are just the \" poor \" and the \" hopeless \" ones who sign up for the army in need of good paychecks which is not provided by the government ! ),xxbos xxmaj this movie is so bad , i knew how it ends right after this little girl killed the first person . xxmaj very bad acting very bad plot very bad movie \n",
       " \n",
       "  do yourself a favour and xxup don't watch it 1 / 10\n",
       "y: CategoryList\n",
       "negative,positive,negative,negative,negative\n",
       "Path: /Users/ricardofernandez/.fastai/data/imdb_sample;\n",
       "\n",
       "Valid: LabelList (201 items)\n",
       "x: TextList\n",
       "xxbos i recently saw xxup xxunk and even though i 'm not a romantic comedy type of xxunk , i think that it was just a nice and sweet movie to watch . xxmaj so many movies in my opinion lack honesty . xxmaj you know that feeling when you 're watching a movie and you just feel xxunk because it 's taking something from the story and it was like the director just threw it together like it was trash ? xxmaj the story between the scientists is a sweet and funny one . xxmaj how they stuck together and they tried to help xxmaj tim xxmaj xxunk character become smart . i liked the love story between xxmaj tim and xxmaj meg because it was simple and brought up a good point when it comes to love , \" nothing is what it seems \" . i would recommend this for a xxmaj sunday morning . \n",
       " \n",
       "  7 / 10,xxbos xxmaj del - \" xxmaj you are the xxunk smart person i 've ever met . \" \n",
       " \n",
       "  xxmaj xxunk \" xxmaj well , i had a brain , but they lost it in the re - writes . \" \n",
       " \n",
       "  i think what i find most xxunk about this xxunk of xxmaj asimov 's work was how the character of xxmaj susan xxmaj calvin was portrayed . xxmaj in the books , she was actually one of the first strong female protagonists , able to think her way through a problem . xxmaj here she 's just a damsel in distress , waiting to be rescued by xxmaj xxunk xxmaj smith . \n",
       " \n",
       "  xxmaj there are passing references to xxmaj asimov 's xxmaj laws of xxmaj xxunk , but they are an xxunk to the xxup cgi and action scenes . \n",
       " \n",
       "  xxmaj smith is likable , as he is in most of his films , but honestly , the story is n't that good . you figure it out long before these genius characters do .,xxbos xxmaj just finished watching this movie for maybe the xxunk or 8th time , picked it up one night previously viewed at xxmaj blockbuster and absolutely loved it , i 've shown it to 4 people so far and they have enjoyed it as well . xxmaj avoid of all the xxmaj hollywood xxunk , special effects and stress on the \" shock factor \" , this independent film by xxmaj paul xxup xxunk xxmaj ryan hits the nail on the head in dealing with the after affects of traumatic situations . xxmaj taking place after a high school shooting , two characters xxmaj xxunk ( xxmaj busy xxmaj xxunk ) and xxmaj xxunk ( xxmaj xxunk xxmaj xxunk ) form an unlikely bond . xxmaj xxunk , the girl with the stone heart , the xxmaj goth who has a xxunk attitude to life xxunk xxmaj xxunk to overcome the issues of life and death and living in the aftermath . xxmaj meanwhile xxmaj xxunk attempts to help xxmaj xxunk to see some of the xxunk and light in the world again . xxmaj not xxunk on the shocking event of the shooting , but on the xxunk relationships amongst those who survived it sets this movie apart . xxmaj despite its low - budget and short filming time , this movie is far from cheesy . xxmaj ryan pays respect to a situation he has never xxunk and attempts to xxunk into the human xxunk . xxmaj with an amazing up and coming actress , xxmaj xxunk , adds the necessary xxunk to the dialogue and overall feel for the film and xxmaj xxunk helps to balance out the \" doom and xxunk \" feeling this movie may have . xxmaj overall , i recommend this movie and if you enjoy the topic of school xxunk and violence and learning more about it , i also suggest the documentary \" xxmaj it 's a xxmaj girls xxmaj world \" put out by xxup xxunk in 2004 , which deals with the topic of social bullying , xxunk and xxunk two groups of girls one in xxmaj xxunk , xxmaj xxunk and the other in xxmaj victoria , xxmaj british xxmaj xxunk , the group of friends and xxunk of xxmaj dawn xxmaj marie xxmaj xxunk a 14 year old girl who killed herself after being brutally xxunk .,xxbos xxmaj this film is actually pertinent even today given the threat of bio - terrorism , and the xxunk of xxunk , xxmaj west xxmaj xxunk xxmaj virus , and xxup xxunk . xxmaj as a thriller , the tension is fairly intense . xxmaj richard xxmaj xxunk and xxmaj paul xxmaj douglas are more than xxunk in their roles . xxmaj the domestic scenes between xxmaj xxunk and his wife provide a nice xxunk to the main plot . xxmaj the actor in this film who most left his mark is xxmaj jack xxmaj xxunk . xxmaj his sharply defined features and seemingly xxunk xxunk always xxunk way to reveal the xxunk and cruel man beneath the surface . xxmaj the chase scene through the xxunk plant is impressive even today . xxmaj recommended , 7 / 10 .,xxbos xxmaj victor xxunk 's performance is one of the finest in film history . \n",
       " \n",
       "  i think we can all feel for \" xxmaj xxunk \" because we 've all xxunk with what is right and what is n't and been wrong . xxmaj this was one of the first art - house pictures to be released by a major xxmaj american movie studio ( xxup xxunk xxmaj radio xxmaj pictures ) . \n",
       " \n",
       "  xxmaj joseph xxup xxunk xxmaj xxunk 's cinematography is at its very best here . xxmaj however , xxmaj xxunk 's stunning portion was mostly xxunk ; he did n't receive the xxmaj oscar nomination he rightly deserved . \n",
       " \n",
       "  xxmaj this is a psychological drama , with thought , philosophy , sadness , all conveyed with as little words as possible .\n",
       "y: CategoryList\n",
       "positive,negative,positive,positive,positive\n",
       "Path: /Users/ricardofernandez/.fastai/data/imdb_sample;\n",
       "\n",
       "Test: None"
      ]
     },
     "execution_count": 9,
     "metadata": {},
     "output_type": "execute_result"
    }
   ],
   "source": [
    "data_lm"
   ]
  },
  {
   "cell_type": "code",
   "execution_count": 12,
   "metadata": {},
   "outputs": [
    {
     "data": {
      "text/plain": [
       "TextList (799 items)\n",
       "xxbos i have just lost three hours of my life to this travesty , and i can honestly say i feel violated . i had read the reviews and heard the warnings , and i thought i was prepared for anything - at best i thought , a faithful ( if misguided ) attempt at an original adaptation ; at worst , a so - good - xxunk - bad \" xxmaj plan 9 \" for the new millennium . xxmaj so when i managed to pick up a copy in xxmaj walmart while in xxmaj florida and brought it back to the xxup uk , i joked to my friends \" xxmaj prepare for the worst movie ever made ! \" xxmaj oh , cruel xxmaj karma . xxmaj there is absolutely xxup nothing to recommend this film . xxmaj the \" special \" effects look like the work of a first year design student using a xxmaj xxunk xxup xxunk . xxmaj the acting is terrible , the accents are xxup worse than terrible ( one artillery xxunk ' accent seems to take us on a tour of the xxmaj british xxmaj xxunk , from xxmaj scotland to xxmaj xxunk via xxmaj xxunk xxmaj ireland ) , the dialogue is stilted , the editing is non - existent , the production values prove that no expense has been gone to . xxmaj words really can not describe how bad this movie is ; from the xxmaj union xxmaj flag flying from the horribly xxunk xxmaj xxunk ( the xxmaj royal xxmaj navy flies the xxmaj white xxmaj xxunk , xxup not the xxmaj union flag ) to the xxunk ridden acting , this is quite simply a crime against film making . xxmaj when you consider some of the literally - zero - budget fan films that are available on the ' net ( the xxmaj star xxmaj wars short \" xxmaj troops \" for example ) , the whole \" we 're xxunk amateurs \" argument goes right out of the window . xxmaj and if you believe an interview with xxmaj hines on the xxmaj xxunk website , this film had an 8 figure budget ! i can only assume that xxunk facial hair does not come cheap in the xxup us . xxmaj maybe the problem is that xxmaj hines & co tried to make a film of the book , rather than turn the book into a film ( if that makes any sense ) . xxmaj characters and extras spout chunks of text xxunk without trying to convey the feelings behind the words . xxmaj ironically enough , the xxup only person who even came close to giving a decent performance was xxmaj darlene xxmaj sellers , the ex - soft porn actress . xxmaj my advice ? xxmaj pray like crazy that xxmaj jeff xxmaj wayne does n't screw up , and go watch the xxmaj spielberg version . xxmaj it may not be true to the text of the book , but i can say this ; xxmaj as a lifelong xxup hg xxmaj wells fan ( and xxmaj xxunk as well ) xxmaj xxunk film xxup is true to the xxmaj spirit of the book . xxmaj maybe customs were wrong to let me carry this monster into the country , but i will say this : xxmaj timothy xxmaj hines stole three hours of my life , and i want them back .,xxbos xxmaj this film is brilliant ! xxmaj it touches everyone who sees it in an extraordinary way . xxmaj it really takes you back to your youth and puts a new perspective on how you view your childhood memories . xxmaj there are so many xxunk to this film . xxmaj it is innovative and absolutely fabulous !,xxbos i rented this shortly after renting xxmaj ben xxmaj stein 's \" xxmaj expelled \" and thought it would interesting to compare them . xxmaj before i go further , it seems only fair that i point out the following so a reader can see if i 'm xxunk or not . i 'm trying to be objective , for the record . \n",
       " \n",
       "  i tend to enjoy xxmaj maher 's xxup xxunk show now and then , though i rarely think he 's the source of the humor . i do n't really care for his stand - up either . xxmaj but he makes some good points on the show now and again , and i liked xxmaj politically xxmaj incorrect , though he was still fairly politically correct ( which i deem a negative because the very term sounds xxmaj orwellian or at least fascist ) . xxmaj as for my religious views , i 'll say for simplicity 's sake that i 'm a non - xxunk . xxmaj christian with some views that are xxunk and some that are agnostic mixed in . \n",
       " \n",
       "  xxmaj that being said , this a bad \" documentary \" for reasons that have n't been touched on yet by many reviewers -- though the ones mentioned are xxunk too . xxmaj the reason it 's not convincing is n't just that he argues the main point without letting others talk ( and his point boils down to nothing logical either , it 's just \" come on , really ? \" which is n't a point , just a question . xxmaj try xxmaj david xxmaj xxunk if you want a decent argument . ) . xxmaj the reason this is n't convincing lies in his lack of experts on the subject matter . i saw this about 2 months ago and i only recall him talking to one person whose credentials as a professional were mentioned if he was n't a xxunk . xxmaj there are probably hundreds of scientists or at least professors with xxmaj masters or xxmaj xxunk willing to do a bit of xxunk xxunk , particularly in the fields of xxmaj history , xxmaj xxunk or a host of others . \n",
       " \n",
       "  xxmaj if one compares this to xxmaj ben xxmaj stein 's \" xxmaj expelled : xxmaj no xxmaj intelligence xxmaj allowed \" he 'll find that xxmaj stein interviews about 30 xxunk professors , professionals , xxunk , etc . xxmaj he does this with a variety of sources with various backgrounds . xxmaj he also makes a point in his film regarding freedom of thought and education . xxmaj maher could easily have pointed out wrongs committed by xxunk rules throughout centuries or xxunk from this . xxmaj instead he xxunk refers to the 20th century 's secular totalitarian xxunk as evidence of why xxunk needs more socio - political power xxrep 4 ! ( it 's in the bonus features where he 's standing in front of the xxmaj anne xxmaj frank house i think . ) xxmaj this is a true xxmaj orwellian head - trip . xxmaj he blames xxmaj christianity in particular on many pointless deaths -- which has had its share , though far smaller than xxunk even including a basic view of the evidence . xxmaj perhaps this is because that argument is xxunk by secular xxunk 's miserable record of the 20th xxmaj century xxup alone . \n",
       " \n",
       "  xxmaj another glaring weakness is his xxunk to talk to anyone that would be considered a moderate or \" average \" xxunk . xxmaj he picks out the weakest xxunk of the xxunk . xxmaj how difficult is that ? xxmaj how does proving the existence of exceptions move toward xxunk the general rule ? xxmaj it does not . xxmaj wow , so people in xxunk think outside of the norm ? xxmaj how enlightening to know this . xxmaj great work xxmaj maher ! xxmaj again , it would be fairly easy to interview someone like xxmaj laurence xxmaj vance and include his work on xxunk the idea of \" patriotic duty \" that demands a person fight in any war his country is involved in . \n",
       " \n",
       "  xxmaj beyond all that , he 's just not that funny here . xxmaj some of the clips that are xxunk in \" clever \" out of context / irreverent ways might garner a laugh , but mostly work to illustrate how a real contextual argument from xxmaj maher will xxup not be xxunk , much less convincing . xxmaj he spends most of his time bashing xxmaj xxunk , xxunk inaccuracies , and interviewing xxunk groups that he does n't allow to really answer his questions . \n",
       " \n",
       "  xxmaj for the record , there are good questions to honestly ask of religious folks and many they should ask of themselves . xxmaj he touches on almost none of these . i get the feeling that i could 've xxunk much better to most of his questioning than the people he interviewed , but the whole thing reeks of deck - stacking in terms of what is included and what was edited out .,xxbos xxmaj xxunk was great with xxmaj million $ xxmaj hotel . i do n't know how he came up with this film ! xxmaj the idea of giving the situation after xxunk and the view of xxmaj american xxmaj society is xxunk , that makes it 2 out of ten . xxmaj but this is not a movie . xxmaj is that the best someone can do with a great xxunk west - east xxunk are important things going on in middle east and it is just xxunk on the screen of a xxup mac * with the fingers of an xxmaj xxunk girl who is actually at the level of xxunk she is just ignorant about the xxunk characters are not well shaped . xxmaj and the most important thing is the idea that is given with religion is somehow funny to me . xxmaj at the ending scene xxmaj xxunk says lets just be quiet and try to listen . xxmaj and the background music says \" ... i will xxunk . xxmaj the thing is not about religion actually . xxmaj but it ends up with this . xxmaj how you are gon na see the truth if you just close your eyes and pray . xxmaj the lights are already shining on the truth . xxmaj its just that nobody wants to see it . ps : \" xxmaj my home is not a place . xxmaj it is xxunk only thing that gets 10 out of 10 is that sentence . xxmaj but it is wasted behind this film making . ( by the way ; as \" someone \" mentioned below , xxmaj xxunk finest young man are not finest , they are just the \" poor \" and the \" hopeless \" ones who sign up for the army in need of good paychecks which is not provided by the government ! ),xxbos xxmaj this movie is so bad , i knew how it ends right after this little girl killed the first person . xxmaj very bad acting very bad plot very bad movie \n",
       " \n",
       "  do yourself a favour and xxup don't watch it 1 / 10\n",
       "Path: /Users/ricardofernandez/.fastai/data/imdb_sample"
      ]
     },
     "execution_count": 12,
     "metadata": {},
     "output_type": "execute_result"
    }
   ],
   "source": [
    "data_lm.x"
   ]
  },
  {
   "cell_type": "code",
   "execution_count": 13,
   "metadata": {},
   "outputs": [
    {
     "data": {
      "text/plain": [
       "['xxunk',\n",
       " 'xxpad',\n",
       " 'xxbos',\n",
       " 'xxeos',\n",
       " 'xxfld',\n",
       " 'xxmaj',\n",
       " 'xxup',\n",
       " 'xxrep',\n",
       " 'xxwrep',\n",
       " 'the']"
      ]
     },
     "execution_count": 13,
     "metadata": {},
     "output_type": "execute_result"
    }
   ],
   "source": [
    "data_lm.vocab.itos[:10]"
   ]
  },
  {
   "cell_type": "code",
   "execution_count": 14,
   "metadata": {},
   "outputs": [
    {
     "data": {
      "text/plain": [
       "Text xxbos i have just lost three hours of my life to this travesty , and i can honestly say i feel violated . i had read the reviews and heard the warnings , and i thought i was prepared for anything - at best i thought , a faithful ( if misguided ) attempt at an original adaptation ; at worst , a so - good - xxunk - bad \" xxmaj plan 9 \" for the new millennium . xxmaj so when i managed to pick up a copy in xxmaj walmart while in xxmaj florida and brought it back to the xxup uk , i joked to my friends \" xxmaj prepare for the worst movie ever made ! \" xxmaj oh , cruel xxmaj karma . xxmaj there is absolutely xxup nothing to recommend this film . xxmaj the \" special \" effects look like the work of a first year design student using a xxmaj xxunk xxup xxunk . xxmaj the acting is terrible , the accents are xxup worse than terrible ( one artillery xxunk ' accent seems to take us on a tour of the xxmaj british xxmaj xxunk , from xxmaj scotland to xxmaj xxunk via xxmaj xxunk xxmaj ireland ) , the dialogue is stilted , the editing is non - existent , the production values prove that no expense has been gone to . xxmaj words really can not describe how bad this movie is ; from the xxmaj union xxmaj flag flying from the horribly xxunk xxmaj xxunk ( the xxmaj royal xxmaj navy flies the xxmaj white xxmaj xxunk , xxup not the xxmaj union flag ) to the xxunk ridden acting , this is quite simply a crime against film making . xxmaj when you consider some of the literally - zero - budget fan films that are available on the ' net ( the xxmaj star xxmaj wars short \" xxmaj troops \" for example ) , the whole \" we 're xxunk amateurs \" argument goes right out of the window . xxmaj and if you believe an interview with xxmaj hines on the xxmaj xxunk website , this film had an 8 figure budget ! i can only assume that xxunk facial hair does not come cheap in the xxup us . xxmaj maybe the problem is that xxmaj hines & co tried to make a film of the book , rather than turn the book into a film ( if that makes any sense ) . xxmaj characters and extras spout chunks of text xxunk without trying to convey the feelings behind the words . xxmaj ironically enough , the xxup only person who even came close to giving a decent performance was xxmaj darlene xxmaj sellers , the ex - soft porn actress . xxmaj my advice ? xxmaj pray like crazy that xxmaj jeff xxmaj wayne does n't screw up , and go watch the xxmaj spielberg version . xxmaj it may not be true to the text of the book , but i can say this ; xxmaj as a lifelong xxup hg xxmaj wells fan ( and xxmaj xxunk as well ) xxmaj xxunk film xxup is true to the xxmaj spirit of the book . xxmaj maybe customs were wrong to let me carry this monster into the country , but i will say this : xxmaj timothy xxmaj hines stole three hours of my life , and i want them back ."
      ]
     },
     "execution_count": 14,
     "metadata": {},
     "output_type": "execute_result"
    }
   ],
   "source": [
    "data_lm.train_ds[0][0]"
   ]
  },
  {
   "cell_type": "code",
   "execution_count": 18,
   "metadata": {},
   "outputs": [],
   "source": [
    "x, y = next(iter(data_lm.train_dl))"
   ]
  },
  {
   "cell_type": "code",
   "execution_count": 21,
   "metadata": {},
   "outputs": [
    {
     "data": {
      "text/plain": [
       "(torch.Size([64, 1704]), torch.Size([64]))"
      ]
     },
     "execution_count": 21,
     "metadata": {},
     "output_type": "execute_result"
    }
   ],
   "source": [
    "x.shape, y.shape"
   ]
  },
  {
   "cell_type": "code",
   "execution_count": 22,
   "metadata": {},
   "outputs": [
    {
     "data": {
      "text/plain": [
       "array([  2,  19,  40,  60, 394, 296, 628,  14,  79, 135])"
      ]
     },
     "execution_count": 22,
     "metadata": {},
     "output_type": "execute_result"
    }
   ],
   "source": [
    "data_lm.train_ds[0][0].data[:10]"
   ]
  },
  {
   "cell_type": "markdown",
   "metadata": {},
   "source": [
    "##  Using data block"
   ]
  },
  {
   "cell_type": "code",
   "execution_count": 28,
   "metadata": {},
   "outputs": [],
   "source": [
    "data = (TextList.from_csv(path, 'texts.csv', cols='text')\n",
    "                .split_from_df(col=2)\n",
    "                .label_from_df(cols=0)\n",
    "                .databunch())"
   ]
  },
  {
   "cell_type": "code",
   "execution_count": 29,
   "metadata": {},
   "outputs": [
    {
     "data": {
      "text/plain": [
       "TextClasDataBunch;\n",
       "\n",
       "Train: LabelList (800 items)\n",
       "x: TextList\n",
       "xxbos xxmaj un - xxunk - believable ! xxmaj meg xxmaj ryan does n't even look her usual xxunk lovable self in this , which normally makes me forgive her shallow xxunk acting xxunk . xxmaj hard to believe she was the producer on this dog . xxmaj plus xxmaj kevin xxmaj kline : what kind of suicide trip has his career been on ? xxmaj xxunk ... xxmaj xxunk ! ! ! xxmaj finally this was directed by the guy who did xxmaj big xxmaj xxunk ? xxmaj must be a replay of xxmaj jonestown - hollywood style . xxmaj xxunk !,xxbos xxmaj this is a extremely well - made film . xxmaj the acting , script and camera - work are all first - rate . xxmaj the music is good , too , though it is mostly early in the film , when things are still relatively xxunk . xxmaj there are no really xxunk in the cast , though several faces will be familiar . xxmaj the entire cast does an excellent job with the script . \n",
       " \n",
       "  xxmaj but it is hard to watch , because there is no good end to a situation like the one presented . xxmaj it is now xxunk to blame the xxmaj british for setting xxmaj hindus and xxmaj muslims against each other , and then xxunk xxunk them into two countries . xxmaj there is some merit in this view , but it 's also true that no one forced xxmaj hindus and xxmaj muslims in the region to xxunk each other as they did around the time of partition . xxmaj it seems more likely that the xxmaj british simply saw the xxunk between the xxunk and were clever enough to exploit them to their own ends . \n",
       " \n",
       "  xxmaj the result is that there is much cruelty and inhumanity in the situation and this is very unpleasant to remember and to see on the screen . xxmaj but it is never painted as a black - and - white case . xxmaj there is xxunk and xxunk on both sides , and also the hope for change in the younger generation . \n",
       " \n",
       "  xxmaj there is redemption of a sort , in the end , when xxmaj xxunk has to make a hard choice between a man who has ruined her life , but also truly loved her , and her family which has xxunk her , then later come looking for her . xxmaj but by that point , she has no xxunk that is without great pain for her . \n",
       " \n",
       "  xxmaj this film carries the message that both xxmaj muslims and xxmaj hindus have their grave xxunk , and also that both can be xxunk and caring people . xxmaj the reality of partition makes that xxunk all the more wrenching , since there can never be real xxunk across the xxmaj india / xxmaj pakistan border . xxmaj in that sense , it is similar to \" xxmaj mr & xxmaj xxunk xxmaj xxunk \" . \n",
       " \n",
       "  xxmaj in the end , we were glad to have seen the film , even though the resolution was xxunk . xxmaj if the xxup uk and xxup us could deal with their own xxunk of racism with this kind of xxunk , they would certainly be better off .,xxbos xxmaj every once in a long while a movie will come along that will be so awful that i feel compelled to warn people . xxmaj if i labor all my days and i can save but one soul from watching this movie , how great will be my joy . \n",
       " \n",
       "  xxmaj where to begin my discussion of pain . xxmaj for xxunk , there was a musical xxunk every five minutes . xxmaj there was no character development . xxmaj every character was a stereotype . xxmaj we had xxunk guy , fat guy who eats donuts , goofy foreign guy , etc . xxmaj the script felt as if it were being written as the movie was being shot . xxmaj the production value was so incredibly low that it felt like i was watching a junior high video presentation . xxmaj have the directors , producers , etc . ever even seen a movie before ? xxmaj xxunk is getting worse and worse with every new entry . xxmaj the concept for this movie sounded so funny . xxmaj how could you go wrong with xxmaj gary xxmaj coleman and a handful of somewhat legitimate actors . xxmaj but trust me when i say this , things went wrong , xxup very xxup wrong .,xxbos xxmaj name just says it all . i watched this movie with my dad when it came out and having served in xxmaj xxunk he had great admiration for the man . xxmaj the disappointing thing about this film is that it only xxunk on a short period of the man 's life - interestingly enough the man 's entire life would have made such an epic bio - xxunk that it is staggering to imagine the cost for production . \n",
       " \n",
       "  xxmaj some posters xxunk to the flawed xxunk about the man , which are cheap shots . xxmaj the theme of the movie \" xxmaj duty , xxmaj honor , xxmaj country \" are not just mere words xxunk from the lips of a high - xxunk officer - it is the deep xxunk of one man 's total devotion to his country . \n",
       " \n",
       "  xxmaj ironically xxmaj xxunk being the liberal that he was xxunk a better understanding of the man . xxmaj he does a great job showing the xxunk general xxunk with the xxunk side of the man .,xxbos xxmaj this movie succeeds at being one of the most unique movies you 've seen . xxmaj however this comes from the fact that you ca n't make heads or xxunk of this mess . xxmaj it almost seems as a series of challenges set up to determine whether or not you are willing to walk out of the movie and give up the money you just paid . xxmaj if you do n't want to feel xxunk you 'll sit through this horrible film and develop a real sense of pity for the actors involved , they 've all seen better days , but then you realize they actually got paid quite a bit of money to do this and you 'll lose pity for them just like you 've already done for the film . i ca n't go on enough about this horrible movie , its almost something that xxmaj ed xxmaj wood would have made and in that case it surely would have been his masterpiece . \n",
       " \n",
       "  xxmaj to start you are forced to sit through an opening dialogue the likes of which you 've never seen / heard , this thing has got to be five minutes long . xxmaj on top of that it is narrated , as to suggest that you the viewer can not read . xxmaj then we meet xxmaj mr. xxmaj xxunk and the xxunk of terrible lines gets xxunk , it is as if he is xxunk solely to get lines on to the movie poster xxunk line . xxmaj soon we meet xxmaj stephen xxmaj xxunk , who i typically enjoy ) and he does his best not to drown in this but ultimately he does . xxmaj then comes the ultimate insult , xxmaj tara xxmaj xxunk playing an intelligent role , oh help us ! xxmaj tara xxmaj xxunk is not a very talented actress and somehow she xxunk gets roles in movies , in my opinion though she should stick to movies of the xxmaj american pie type . \n",
       " \n",
       "  xxmaj all in all you just may want to see this for yourself when it comes out on video , i know that i got a kick out of it , i mean lets all be honest here , sometimes its comforting to xxunk in the shortcomings of others .\n",
       "y: CategoryList\n",
       "negative,positive,negative,positive,negative\n",
       "Path: /Users/ricardofernandez/.fastai/data/imdb_sample;\n",
       "\n",
       "Valid: LabelList (200 items)\n",
       "x: TextList\n",
       "xxbos xxmaj this very funny xxmaj british comedy shows what might happen if a section of xxmaj london , in this case xxmaj xxunk , were to xxunk itself independent from the rest of the xxup uk and its laws , xxunk & post - war xxunk . xxmaj merry xxunk is what would happen . \n",
       " \n",
       "  xxmaj the explosion of a wartime bomb leads to the xxunk of ancient xxunk which show that xxmaj xxunk was xxunk to the xxmaj xxunk of xxmaj xxunk xxunk ago , a small historical xxunk long since forgotten . xxmaj to the new xxmaj xxunk , however , this is an unexpected opportunity to live as they please , free from any xxunk from xxmaj xxunk . \n",
       " \n",
       "  xxmaj stanley xxmaj xxunk is excellent as the minor city xxunk who suddenly finds himself leading one of the world 's xxunk xxunk . xxmaj xxunk xxmaj margaret xxmaj xxunk is a delight as the history professor who sides with xxmaj xxunk . xxmaj others in the stand - out cast include xxmaj xxunk xxmaj xxunk , xxmaj paul xxmaj xxunk , xxmaj xxunk xxmaj xxunk , xxmaj xxunk xxmaj xxunk & xxmaj sir xxmaj michael xxmaj xxunk . \n",
       " \n",
       "  xxmaj welcome to xxmaj xxunk !,xxbos i saw this movie once as a kid on the late - late show and fell in love with it . \n",
       " \n",
       "  xxmaj it took 30 + years , but i recently did find it on xxup dvd - it was n't cheap , either - in a xxunk that xxunk in war movies . xxmaj we watched it last night for the first time . xxmaj the audio was good , however it was grainy and had the trailers between xxunk . xxmaj even so , it was better than i remembered it . i was also impressed at how true it was to the play . \n",
       " \n",
       "  xxmaj the xxunk is around here xxunk . xxmaj if you 're xxunk in finding it , fire me a xxunk and i 'll see if i can get you the xxunk . xxunk,xxbos xxmaj this is , in my opinion , a very good film , especially for xxmaj michael xxmaj jackson lovers . xxmaj it contains a message on drugs , stunning special effects , and an awesome music video . \n",
       " \n",
       "  xxmaj the main film is xxunk around the song and music video ' xxmaj smooth xxmaj criminal . ' xxmaj unlike the four - minute music video , it is normal speed and , in my opinion , much xxunk to watch . \n",
       " \n",
       "  xxmaj the plot is rather weird , however . xxmaj michael xxmaj jackson plays a xxunk ' gangster ' that , when he sees a shooting star , he xxunk into a piece of xxunk . xxmaj throughout the film , he xxunk into a race car , a giant robot , and a space ship . \n",
       " \n",
       "  xxmaj the robot scene in particular is a bit drawn out and strange . i found it a little out - of - whack compared to the rest of the film . \n",
       " \n",
       "  a child is kidnapped , xxmaj michael tries to save her , is tortured and beaten , and suddenly turns into a giant robot that blows up all the bad guys . a little weird ? xxmaj yeah . \n",
       " \n",
       "  xxmaj but besides the bizarre robot scene , it 's a very good movie , and any xxmaj michael xxmaj jackson fan will enjoy both the xxmaj smooth xxmaj criminal music video and the movie .,xxbos xxmaj in xxmaj iran , women are not xxunk to attend men 's sporting events , apparently to \" xxunk \" them from all the xxunk and foul language they might hear xxunk from the male fans ( so since men ca n't xxunk or xxunk themselves , women are forced to suffer . xxmaj go figure . ) . \" xxmaj xxunk \" tells the tale of a half dozen or so young women who , dressed like men , attempt to xxunk into the high - xxunk match between xxmaj iran and xxmaj xxunk that , in xxunk , qualified xxmaj iran to go to the xxmaj world xxmaj cup ( the movie was actually filmed in large part during that game ) . \n",
       " \n",
       "  \" xxmaj xxunk \" is a xxunk - of - life comedy that will remind you of all those great xxunk films ( \" xxmaj the xxmaj shop on xxmaj main xxmaj street , \" \" xxmaj loves of a xxmaj blonde , \" \" xxmaj closely xxmaj watched xxmaj trains \" etc . ) that xxunk out of xxmaj communist xxmaj xxunk as part of the \" xxmaj xxunk xxmaj xxunk \" in the mid xxunk 's . xxmaj as with many of those works , \" xxmaj xxunk \" is more concerned with xxunk life than with xxunk any kind of xxunk contrived fictional narrative . xxmaj indeed , it is the simplicity of the xxunk and the xxunk of the style that make the movie so effective . \n",
       " \n",
       "  xxmaj once their xxunk is discovered , the girls are xxunk into a small xxunk right outside the xxunk where they can hear the xxunk xxunk xxunk from the game inside . xxmaj stuck where they are , all they can do is xxunk with the security guards to let them go in , guards who are basically xxunk , good - xxunk xxunk who are compelled to do their duty as a part of their xxunk military service . xxmaj even most of the men going into the xxunk do n't seem particularly xxunk at the thought of these women being allowed in . xxmaj still the prohibition xxunk . xxmaj yet , how can one not be impressed by the very real courage and xxunk displayed by these women as they go up against a system that continues to xxunk such a xxunk xxunk and xxunk xxunk ? xxmaj and , yet , the purpose of these women is not to xxunk behind a cause or to make a \" point . \" xxmaj they are simply obsessed fans with a burning desire to watch a soccer game and , like all the men in the country , xxunk on their team . \n",
       " \n",
       "  xxmaj it 's hard to tell just how much of the dialogue is scripted and how much of it is xxunk , but , in either case , the actors , with their xxunk xxunk faces , do a magnificent job making each moment seem utterly real and convincing . xxmaj xxunk xxmaj xxunk - xxunk and xxmaj xxunk xxmaj xxunk are notable xxunk in a xxunk excellent cast . xxmaj the structure of the film is also very loose and xxunk , as writer / director xxmaj xxunk xxmaj xxunk and co - writer xxmaj xxunk xxmaj xxunk focus for a few brief moments on one or two of the characters , then move xxunk and xxunk onto others . xxmaj with this documentary - type approach , we come to feel as if we are xxunk an actual event xxunk in \" real time . \" xxmaj very often , it 's quite easy for us to forget we 're actually watching a movie . \n",
       " \n",
       "  xxmaj it was a very smart move on the part of the filmmakers to include so much good - xxunk humor in the film ( it 's what the xxmaj xxunk filmmakers did as well ) , the better to point up the utter absurdity of the situation and xxunk the appeal of the film for audiences both domestic and foreign . \" xxmaj xxunk \" is obviously a cry for justice , but it is one that is made all the more effective by its xxunk to make of its story a heavy - breathing tragedy . xxmaj instead , it realizes that nothing breaks down social xxunk quite as xxunk as humor and an appeal to the audience 's common humanity . xxmaj and is n't that what true art is supposed to be all about ? xxmaj in its own quiet , xxunk way , \" xxmaj xxunk \" is one of the great , under - appreciated xxunk of xxunk .,xxbos \" xxmaj in xxmaj xxunk xxunk , the xxmaj university of xxmaj xxunk xxunk to xxunk xxmaj xxunk xxmaj national xxmaj xxunk , with an xxunk of xxmaj xxunk xxunk offering to xxunk the research . xxmaj xxunk xxunk became the first \" national \" xxunk . xxmaj it did not , however , remain at its original location in the xxmaj xxunk forest . xxmaj in xxunk , it moved xxunk west from the \" xxmaj xxunk xxmaj city \" to a new site on xxmaj xxunk xxunk . xxmaj when xxmaj xxunk xxmaj xxunk visited xxmaj xxunk 's director , xxmaj walter xxmaj xxunk , in xxunk , he asked him what kind of xxunk was to be built at the new site . xxmaj when xxmaj xxunk described a heavy - water xxunk xxunk at one - xxunk the power of the xxmaj xxunk xxmaj xxunk xxmaj xxunk under design at xxmaj xxunk xxmaj xxunk , xxmaj xxunk xxunk it would be xxunk if xxmaj xxunk took the xxmaj xxunk xxmaj xxunk design and xxunk the xxmaj xxunk xxmaj xxunk xxmaj xxunk at one - xxunk capacity . xxmaj the joke proved unintentionally xxunk . \" \n",
       " \n",
       "  xxmaj the xxup xxunk plant used xxunk to separate the xxunk in thousands of tall xxunk . xxmaj it was built next to the xxup xxunk power plant , which provided the necessary steam . xxmaj much less xxunk than xxup xxunk , the xxup xxunk plant was torn down after the war . \n",
       " \n",
       "  xxmaj concerned that the xxmaj xxunk xxmaj energy xxmaj xxunk research program might become too xxunk , xxmaj xxunk xxunk a xxunk of industrial xxunk , and during a xxmaj xxunk visit to xxmaj xxunk xxmaj xxunk , he xxunk with xxmaj clark xxmaj center , manager of xxmaj xxunk & xxmaj xxunk , a xxunk of xxmaj union xxmaj xxunk xxmaj corporation at xxmaj xxunk xxmaj xxunk , the possibility of the company xxunk xxunk of the xxmaj xxunk . \n",
       " \n",
       "  xxmaj prince xxmaj henry ( of xxmaj xxunk ) xxmaj xxunk in xxmaj washington and xxmaj visiting the xxmaj german xxmaj xxunk ( xxunk ) . xxmaj xxunk , with xxmaj prince xxmaj henry of xxmaj xxunk according to the xxunk of science and its xxunk their were already concerns with the xxunk of new science with military xxunk . xxmaj the xxmaj xxunk ( xxunk / xxup ii ) , \" xxmaj xxunk xxmaj xxunk 's splendid xxunk at the xxunk xxmaj st. xxmaj xxunk , xxmaj new xxmaj york . xxmaj taken at the exact moment of xxmaj prince xxmaj henry 's xxunk , and the raising of the xxunk standard . \" xxmaj if xxmaj xxunk knew of these necessary xxunk to xxunk xxunk then what was the xxunk of the xxunk xxup xxunk and xxup wwii . xxmaj the quality of xxunk control i xxunk ? \n",
       " \n",
       "  xxmaj thus , did the xxunk of xxmaj xxunk xxmaj xxunk xxunk for a military mission , or a business plan , based on the security xxunk of xxmaj xxunk xxunk ? xxmaj because supposedly their were no survivors , and the ones who were caught in xxmaj europe ordered to be executed . xxmaj of the xxunk man commando team the survivors who were captured were executed under orders of the xxmaj german xxmaj army against xxunk , and xxunk acts of the xxmaj state of xxmaj germany . \n",
       " \n",
       "  xxmaj the xxmaj xxunk xxmaj no . xxunk / xxunk xxunk xxmaj xxunk . xxup xxunk / xxunk , xxmaj xxunk xxup xxunk , 18 xxmaj xxunk xxunk , ( xxunk ) xxmaj xxunk xxmaj hitler ; xxmaj translation of xxmaj document no . xxup xxunk , xxmaj office of xxup u.s. xxmaj chief of xxmaj xxunk , xxunk true copy xxmaj xxunk xxmaj major , xxunk xxup xxunk xxunk xxmaj march xxunk , xxunk , xxunk at the xxup u.s. xxmaj national xxmaj xxunk . \n",
       " \n",
       "  xxmaj the xxup xxunk xxmaj society xxunk xxunk xxmaj xxunk xxmaj xxunk . , xxunk xxunk , xxup xxunk xxunk\n",
       "y: CategoryList\n",
       "positive,positive,positive,positive,positive\n",
       "Path: /Users/ricardofernandez/.fastai/data/imdb_sample;\n",
       "\n",
       "Test: None"
      ]
     },
     "execution_count": 29,
     "metadata": {},
     "output_type": "execute_result"
    }
   ],
   "source": [
    "data"
   ]
  },
  {
   "cell_type": "markdown",
   "metadata": {},
   "source": [
    "## Language model "
   ]
  },
  {
   "cell_type": "code",
   "execution_count": 30,
   "metadata": {},
   "outputs": [
    {
     "data": {
      "text/plain": [
       "[PosixPath('/Users/ricardofernandez/.fastai/data/imdb/ld.pkl'),\n",
       " PosixPath('/Users/ricardofernandez/.fastai/data/imdb/test'),\n",
       " PosixPath('/Users/ricardofernandez/.fastai/data/imdb/ll_lm.pkl'),\n",
       " PosixPath('/Users/ricardofernandez/.fastai/data/imdb/tmp_clas'),\n",
       " PosixPath('/Users/ricardofernandez/.fastai/data/imdb/vocab_lm.pkl'),\n",
       " PosixPath('/Users/ricardofernandez/.fastai/data/imdb/imdb.vocab'),\n",
       " PosixPath('/Users/ricardofernandez/.fastai/data/imdb/unsup'),\n",
       " PosixPath('/Users/ricardofernandez/.fastai/data/imdb/README'),\n",
       " PosixPath('/Users/ricardofernandez/.fastai/data/imdb/tmp_lm'),\n",
       " PosixPath('/Users/ricardofernandez/.fastai/data/imdb/ll_clas.pkl'),\n",
       " PosixPath('/Users/ricardofernandez/.fastai/data/imdb/train')]"
      ]
     },
     "execution_count": 30,
     "metadata": {},
     "output_type": "execute_result"
    }
   ],
   "source": [
    "path = untar_data(URLs.IMDB)\n",
    "path.ls()"
   ]
  },
  {
   "cell_type": "code",
   "execution_count": 31,
   "metadata": {},
   "outputs": [
    {
     "data": {
      "text/plain": [
       "[PosixPath('/Users/ricardofernandez/.fastai/data/imdb/train/neg'),\n",
       " PosixPath('/Users/ricardofernandez/.fastai/data/imdb/train/pos'),\n",
       " PosixPath('/Users/ricardofernandez/.fastai/data/imdb/train/unsupBow.feat'),\n",
       " PosixPath('/Users/ricardofernandez/.fastai/data/imdb/train/labeledBow.feat')]"
      ]
     },
     "execution_count": 31,
     "metadata": {},
     "output_type": "execute_result"
    }
   ],
   "source": [
    "(path/'train').ls()"
   ]
  },
  {
   "cell_type": "markdown",
   "metadata": {},
   "source": [
    "## Creating the TextLMDataBunch"
   ]
  },
  {
   "cell_type": "code",
   "execution_count": 32,
   "metadata": {},
   "outputs": [
    {
     "data": {
      "text/plain": [
       "[PosixPath('/Users/ricardofernandez/.fastai/data/imdb/ld.pkl'),\n",
       " PosixPath('/Users/ricardofernandez/.fastai/data/imdb/test'),\n",
       " PosixPath('/Users/ricardofernandez/.fastai/data/imdb/ll_lm.pkl'),\n",
       " PosixPath('/Users/ricardofernandez/.fastai/data/imdb/tmp_clas'),\n",
       " PosixPath('/Users/ricardofernandez/.fastai/data/imdb/vocab_lm.pkl'),\n",
       " PosixPath('/Users/ricardofernandez/.fastai/data/imdb/imdb.vocab'),\n",
       " PosixPath('/Users/ricardofernandez/.fastai/data/imdb/unsup'),\n",
       " PosixPath('/Users/ricardofernandez/.fastai/data/imdb/README'),\n",
       " PosixPath('/Users/ricardofernandez/.fastai/data/imdb/tmp_lm'),\n",
       " PosixPath('/Users/ricardofernandez/.fastai/data/imdb/ll_clas.pkl'),\n",
       " PosixPath('/Users/ricardofernandez/.fastai/data/imdb/train')]"
      ]
     },
     "execution_count": 32,
     "metadata": {},
     "output_type": "execute_result"
    }
   ],
   "source": [
    "path.ls()"
   ]
  },
  {
   "cell_type": "code",
   "execution_count": 33,
   "metadata": {},
   "outputs": [],
   "source": [
    "data_lm = (TextList.from_folder(path)\n",
    "           #Inputs: all the text files in path\n",
    "            .filter_by_folder(include=['train', 'test', 'unsup']) \n",
    "           #We may have other temp folders that contain text files so we only keep what's in train and test\n",
    "            .split_by_rand_pct(0.1, seed=42)\n",
    "           #We randomly split and keep 10% (10,000 reviews) for validation\n",
    "            .label_for_lm()           \n",
    "           #We want to do a language model so we label accordingly\n",
    "            .databunch(bs=bs, num_workers=1))"
   ]
  },
  {
   "cell_type": "code",
   "execution_count": 34,
   "metadata": {},
   "outputs": [
    {
     "data": {
      "text/plain": [
       "(60000, 90000)"
      ]
     },
     "execution_count": 34,
     "metadata": {},
     "output_type": "execute_result"
    }
   ],
   "source": [
    "len(data_lm.vocab.itos), len(data_lm.train_ds)"
   ]
  },
  {
   "cell_type": "code",
   "execution_count": 35,
   "metadata": {},
   "outputs": [
    {
     "data": {
      "text/html": [
       "<table border=\"1\" class=\"dataframe\">\n",
       "  <thead>\n",
       "    <tr style=\"text-align: right;\">\n",
       "      <th>idx</th>\n",
       "      <th>text</th>\n",
       "    </tr>\n",
       "  </thead>\n",
       "  <tbody>\n",
       "    <tr>\n",
       "      <td>0</td>\n",
       "      <td>, but one gets the impression in watching the film that it was not pulled off as well as it could have been . xxmaj the fact that it is cluttered by a rather uninteresting subplot and mostly uninteresting kidnappers really muddles things . xxmaj the movie is worth a xxunk if for nothing more than entertaining performances by xxmaj rickman , xxmaj thompson , and xxmaj holbrook . xxbos</td>\n",
       "    </tr>\n",
       "    <tr>\n",
       "      <td>1</td>\n",
       "      <td>it means the subject of his film , xxmaj elmyr , did n't get the time he deserved and he was probably the more interesting story . \\n \\n  xxmaj the great tragedy of xxmaj orson xxmaj welles was that he peaked early , and then spent the rest of his career sputtering , finally doing wine commercials and awful documentaries ... xxbos xxmaj what a frustrating movie .</td>\n",
       "    </tr>\n",
       "    <tr>\n",
       "      <td>2</td>\n",
       "      <td>and behavior is more fitting of a mob gangster . xxmaj the best portrayed characters of the movie are those of xxmaj tracy and her father . xxmaj but the performances by those actors when sharing the screen with xxmaj lazenby only serve to emphasize his deficiencies as an actor . xxmaj this movie is too long ( 140 mins . ) for a xxmaj bond film and does n't</td>\n",
       "    </tr>\n",
       "    <tr>\n",
       "      <td>3</td>\n",
       "      <td>else cautioned , \" xxmaj your script needs work . xxmaj nothing that happens furthers a story or creates necessity \" and the writer is all , \" xxmaj but that 's the way i dreamed it ! \" xxmaj it 's like the rambling fantasy of a child , one of those wild and meandering yarns they spin to get your attention . xxmaj and xxup then xxmaj william</td>\n",
       "    </tr>\n",
       "    <tr>\n",
       "      <td>4</td>\n",
       "      <td>account of what happened to the city of xxmaj houston in xxmaj june of 2001 then you will be disappointed . xxmaj one thing to keep in mind before viewing this movie is that it is based solely on the evacuation of xxmaj memorial xxmaj hermann xxmaj hospital and not on xxmaj tropical xxmaj storm xxmaj alison and the impact on xxmaj houston metro itself . xxmaj if you are</td>\n",
       "    </tr>\n",
       "  </tbody>\n",
       "</table>"
      ],
      "text/plain": [
       "<IPython.core.display.HTML object>"
      ]
     },
     "metadata": {},
     "output_type": "display_data"
    }
   ],
   "source": [
    "data_lm.show_batch()"
   ]
  },
  {
   "cell_type": "code",
   "execution_count": 36,
   "metadata": {},
   "outputs": [],
   "source": [
    "data_lm.save('lm_databunch')"
   ]
  },
  {
   "cell_type": "markdown",
   "metadata": {},
   "source": [
    "## Loading saved data, and creating the language model"
   ]
  },
  {
   "cell_type": "code",
   "execution_count": 37,
   "metadata": {},
   "outputs": [],
   "source": [
    "data_lm = load_data(path, 'lm_databunch', bs=bs)"
   ]
  },
  {
   "cell_type": "code",
   "execution_count": 41,
   "metadata": {},
   "outputs": [],
   "source": [
    "learn_lm = language_model_learner(data_lm, AWD_LSTM, drop_mult=0.3)"
   ]
  },
  {
   "cell_type": "code",
   "execution_count": 47,
   "metadata": {},
   "outputs": [],
   "source": [
    "# grab vocab from trained model\n",
    "wiki_itos = pickle.load(open(Config().model_path()/'wt103-fwd/itos_wt103.pkl', 'rb'))"
   ]
  },
  {
   "cell_type": "code",
   "execution_count": 49,
   "metadata": {},
   "outputs": [
    {
     "data": {
      "text/plain": [
       "['xxunk',\n",
       " 'xxpad',\n",
       " 'xxbos',\n",
       " 'xxeos',\n",
       " 'xxfld',\n",
       " 'xxmaj',\n",
       " 'xxup',\n",
       " 'xxrep',\n",
       " 'xxwrep',\n",
       " 'the']"
      ]
     },
     "execution_count": 49,
     "metadata": {},
     "output_type": "execute_result"
    }
   ],
   "source": [
    "wiki_itos[:10]"
   ]
  },
  {
   "cell_type": "code",
   "execution_count": 50,
   "metadata": {},
   "outputs": [],
   "source": [
    "vocab = data_lm.vocab"
   ]
  },
  {
   "cell_type": "code",
   "execution_count": 52,
   "metadata": {},
   "outputs": [
    {
     "data": {
      "text/plain": [
       "['xxunk',\n",
       " 'xxpad',\n",
       " 'xxbos',\n",
       " 'xxeos',\n",
       " 'xxfld',\n",
       " 'xxmaj',\n",
       " 'xxup',\n",
       " 'xxrep',\n",
       " 'xxwrep',\n",
       " 'the']"
      ]
     },
     "execution_count": 52,
     "metadata": {},
     "output_type": "execute_result"
    }
   ],
   "source": [
    "vocab.itos[:10]"
   ]
  },
  {
   "cell_type": "code",
   "execution_count": 53,
   "metadata": {},
   "outputs": [
    {
     "data": {
      "text/plain": [
       "37367"
      ]
     },
     "execution_count": 53,
     "metadata": {},
     "output_type": "execute_result"
    }
   ],
   "source": [
    "vocab.stoi['stingray']"
   ]
  },
  {
   "cell_type": "code",
   "execution_count": 54,
   "metadata": {},
   "outputs": [
    {
     "data": {
      "text/plain": [
       "'stingray'"
      ]
     },
     "execution_count": 54,
     "metadata": {},
     "output_type": "execute_result"
    }
   ],
   "source": [
    "vocab.itos[vocab.stoi['stingray']]"
   ]
  },
  {
   "cell_type": "code",
   "execution_count": 55,
   "metadata": {},
   "outputs": [
    {
     "data": {
      "text/plain": [
       "'xxunk'"
      ]
     },
     "execution_count": 55,
     "metadata": {},
     "output_type": "execute_result"
    }
   ],
   "source": [
    "vocab.itos[vocab.stoi['mobula']]"
   ]
  },
  {
   "cell_type": "code",
   "execution_count": 58,
   "metadata": {},
   "outputs": [],
   "source": [
    "awd = learn_lm.model[0]"
   ]
  },
  {
   "cell_type": "code",
   "execution_count": 57,
   "metadata": {},
   "outputs": [],
   "source": [
    "from scipy.spatial.distance import cosine as dist"
   ]
  },
  {
   "cell_type": "code",
   "execution_count": 61,
   "metadata": {},
   "outputs": [],
   "source": [
    "enc = learn_lm.model[0].encoder  # first layer is embedding"
   ]
  },
  {
   "cell_type": "code",
   "execution_count": 62,
   "metadata": {},
   "outputs": [
    {
     "data": {
      "text/plain": [
       "Embedding(60000, 400, padding_idx=1)"
      ]
     },
     "execution_count": 62,
     "metadata": {},
     "output_type": "execute_result"
    }
   ],
   "source": [
    "enc"
   ]
  },
  {
   "cell_type": "code",
   "execution_count": 64,
   "metadata": {},
   "outputs": [
    {
     "data": {
      "text/plain": [
       "torch.Size([60000, 400])"
      ]
     },
     "execution_count": 64,
     "metadata": {},
     "output_type": "execute_result"
    }
   ],
   "source": [
    "enc.weight.size() # our vocab is 60000 words and we embedd them in a 400 dim space"
   ]
  },
  {
   "cell_type": "markdown",
   "metadata": {},
   "source": [
    "## Difference in vocabulary between IMDB and Wikipedia"
   ]
  },
  {
   "cell_type": "code",
   "execution_count": 67,
   "metadata": {},
   "outputs": [
    {
     "data": {
      "text/plain": [
       "60000"
      ]
     },
     "execution_count": 67,
     "metadata": {},
     "output_type": "execute_result"
    }
   ],
   "source": [
    "len(wiki_itos) # wiki text"
   ]
  },
  {
   "cell_type": "code",
   "execution_count": 68,
   "metadata": {},
   "outputs": [
    {
     "data": {
      "text/plain": [
       "60000"
      ]
     },
     "execution_count": 68,
     "metadata": {},
     "output_type": "execute_result"
    }
   ],
   "source": [
    "len(vocab.itos) # imbd text"
   ]
  },
  {
   "cell_type": "code",
   "execution_count": 72,
   "metadata": {},
   "outputs": [],
   "source": [
    "i, unks = 0, []\n",
    "while len(unks) < 50:\n",
    "    if data_lm.vocab.itos[i] not in wiki_itos:\n",
    "        unks.append((i,data_lm.vocab.itos[i]))\n",
    "    i += 1"
   ]
  },
  {
   "cell_type": "code",
   "execution_count": 76,
   "metadata": {},
   "outputs": [
    {
     "data": {
      "text/plain": [
       "[(36, \"n't\"),\n",
       " (162, \"'ve\"),\n",
       " (170, \"'m\"),\n",
       " (526, '\\x96'),\n",
       " (953, 'imdb'),\n",
       " (1680, '\\x85 '),\n",
       " (1785, '\\x85'),\n",
       " (2011, 'crappy'),\n",
       " (2693, 'seagal'),\n",
       " (2876, '---')]"
      ]
     },
     "execution_count": 76,
     "metadata": {},
     "output_type": "execute_result"
    }
   ],
   "source": [
    "unks[:10]"
   ]
  },
  {
   "cell_type": "code",
   "execution_count": 77,
   "metadata": {},
   "outputs": [],
   "source": [
    "wiki_words = set(wiki_itos)"
   ]
  },
  {
   "cell_type": "code",
   "execution_count": 78,
   "metadata": {},
   "outputs": [],
   "source": [
    "imdb_words = set(vocab.itos)"
   ]
  },
  {
   "cell_type": "code",
   "execution_count": 79,
   "metadata": {},
   "outputs": [],
   "source": [
    "wiki_not_imdb = wiki_words.difference(imdb_words)\n",
    "imdb_not_wiki = imdb_words.difference(wiki_words)"
   ]
  },
  {
   "cell_type": "code",
   "execution_count": 80,
   "metadata": {},
   "outputs": [
    {
     "data": {
      "text/plain": [
       "{1, 2}"
      ]
     },
     "execution_count": 80,
     "metadata": {},
     "output_type": "execute_result"
    }
   ],
   "source": [
    "set([1,2,3]).difference(set([3,4,5]))"
   ]
  },
  {
   "cell_type": "code",
   "execution_count": 82,
   "metadata": {},
   "outputs": [],
   "source": [
    "wiki_not_imdb_list = []\n",
    "\n",
    "for i in range(100):\n",
    "    word = wiki_not_imdb.pop()\n",
    "    wiki_not_imdb_list.append(word)\n",
    "    wiki_not_imdb.add(word)"
   ]
  },
  {
   "cell_type": "code",
   "execution_count": 83,
   "metadata": {},
   "outputs": [
    {
     "data": {
      "text/plain": [
       "['i-94',\n",
       " 'kennebec',\n",
       " 'republished',\n",
       " 'ucf',\n",
       " 'burh',\n",
       " 'felice',\n",
       " 'weald',\n",
       " 'appellant',\n",
       " 'wallenberg',\n",
       " 'brookwood',\n",
       " 'pwi',\n",
       " 'restrengthening',\n",
       " 'conscription',\n",
       " 'extinctions',\n",
       " 'genotype']"
      ]
     },
     "execution_count": 83,
     "metadata": {},
     "output_type": "execute_result"
    }
   ],
   "source": [
    "wiki_not_imdb_list[:15]"
   ]
  },
  {
   "cell_type": "code",
   "execution_count": 84,
   "metadata": {},
   "outputs": [],
   "source": [
    "imdb_not_wiki_list = []\n",
    "\n",
    "for i in range(100):\n",
    "    word = imdb_not_wiki.pop()\n",
    "    imdb_not_wiki_list.append(word)\n",
    "    imdb_not_wiki.add(word)"
   ]
  },
  {
   "cell_type": "code",
   "execution_count": 85,
   "metadata": {},
   "outputs": [
    {
     "data": {
      "text/plain": [
       "['bodysnatchers',\n",
       " 'foregoing',\n",
       " 'boppers',\n",
       " 'cots',\n",
       " 'lurks',\n",
       " 'populism',\n",
       " 'lohman',\n",
       " 'plasticized',\n",
       " 'midian',\n",
       " 'dropouts',\n",
       " 'couleurs',\n",
       " 'vlady',\n",
       " 'tellers',\n",
       " 'climaxing',\n",
       " 'vaccaro']"
      ]
     },
     "execution_count": 85,
     "metadata": {},
     "output_type": "execute_result"
    }
   ],
   "source": [
    "imdb_not_wiki_list[:15]"
   ]
  },
  {
   "cell_type": "markdown",
   "metadata": {},
   "source": [
    "All words that appear in the IMDB vocab, but not the wikitext-103 vocab, will be initialized to the same random vector in a model. As the model trains, we will learn these weights."
   ]
  },
  {
   "cell_type": "code",
   "execution_count": 89,
   "metadata": {},
   "outputs": [
    {
     "data": {
      "text/plain": [
       "(0, 'xxunk')"
      ]
     },
     "execution_count": 89,
     "metadata": {},
     "output_type": "execute_result"
    }
   ],
   "source": [
    "vocab.stoi[\"modernisation\"], vocab.itos[vocab.stoi[\"modernisation\"]]"
   ]
  },
  {
   "cell_type": "code",
   "execution_count": 87,
   "metadata": {},
   "outputs": [
    {
     "data": {
      "text/plain": [
       "True"
      ]
     },
     "execution_count": 87,
     "metadata": {},
     "output_type": "execute_result"
    }
   ],
   "source": [
    "\"modernisation\" in wiki_words"
   ]
  },
  {
   "cell_type": "code",
   "execution_count": 88,
   "metadata": {},
   "outputs": [
    {
     "data": {
      "text/plain": [
       "26862"
      ]
     },
     "execution_count": 88,
     "metadata": {},
     "output_type": "execute_result"
    }
   ],
   "source": [
    "vocab.stoi[\"30-something\"]"
   ]
  },
  {
   "cell_type": "code",
   "execution_count": 90,
   "metadata": {},
   "outputs": [
    {
     "data": {
      "text/plain": [
       "(False, True)"
      ]
     },
     "execution_count": 90,
     "metadata": {},
     "output_type": "execute_result"
    }
   ],
   "source": [
    "\"30-something\" in wiki_words, \"30-something\" in imdb_words"
   ]
  },
  {
   "cell_type": "code",
   "execution_count": 93,
   "metadata": {},
   "outputs": [
    {
     "data": {
      "text/plain": [
       "16591"
      ]
     },
     "execution_count": 93,
     "metadata": {},
     "output_type": "execute_result"
    }
   ],
   "source": [
    "vocab.stoi[\"linklater\"]"
   ]
  },
  {
   "cell_type": "code",
   "execution_count": 94,
   "metadata": {},
   "outputs": [
    {
     "data": {
      "text/plain": [
       "(False, True)"
      ]
     },
     "execution_count": 94,
     "metadata": {},
     "output_type": "execute_result"
    }
   ],
   "source": [
    "\"linklater\" in wiki_words, \"linklater\" in imdb_words"
   ]
  },
  {
   "cell_type": "code",
   "execution_count": 91,
   "metadata": {},
   "outputs": [
    {
     "data": {
      "text/plain": [
       "(True, True)"
      ]
     },
     "execution_count": 91,
     "metadata": {},
     "output_type": "execute_result"
    }
   ],
   "source": [
    "\"house\" in wiki_words, \"house\" in imdb_words"
   ]
  },
  {
   "cell_type": "code",
   "execution_count": 98,
   "metadata": {},
   "outputs": [
    {
     "data": {
      "text/plain": [
       "(26862, 16591)"
      ]
     },
     "execution_count": 98,
     "metadata": {},
     "output_type": "execute_result"
    }
   ],
   "source": [
    "vocab.stoi[\"30-something\"], vocab.stoi[\"linklater\"]"
   ]
  },
  {
   "cell_type": "code",
   "execution_count": 92,
   "metadata": {},
   "outputs": [
    {
     "data": {
      "text/plain": [
       "True"
      ]
     },
     "execution_count": 92,
     "metadata": {},
     "output_type": "execute_result"
    }
   ],
   "source": [
    "# so linklater and house are in imdb but not in wiki, they\n",
    "np.allclose(enc.weight[vocab.stoi[\"30-something\"], :], \n",
    "            enc.weight[vocab.stoi[\"linklater\"], :])"
   ]
  },
  {
   "cell_type": "code",
   "execution_count": 99,
   "metadata": {},
   "outputs": [
    {
     "data": {
      "text/plain": [
       "False"
      ]
     },
     "execution_count": 99,
     "metadata": {},
     "output_type": "execute_result"
    }
   ],
   "source": [
    "np.allclose(enc.weight[vocab.stoi[\"30-something\"], :], \n",
    "            enc.weight[vocab.stoi[\"house\"], :])"
   ]
  },
  {
   "cell_type": "markdown",
   "metadata": {},
   "source": [
    "### Generating fake movie reviews (using wiki-text model)"
   ]
  },
  {
   "cell_type": "code",
   "execution_count": 108,
   "metadata": {},
   "outputs": [],
   "source": [
    "TEXT = \"The color of the sky is\"\n",
    "N_WORDS = 40\n",
    "N_SENTENCES = 2"
   ]
  },
  {
   "cell_type": "code",
   "execution_count": 109,
   "metadata": {},
   "outputs": [
    {
     "name": "stdout",
     "output_type": "stream",
     "text": [
      "The color of the sky is created by a color of skin ( such as yellow , blue , and red ) , which is also used to represent the flesh . The skin is generally left to paint on the sides , with blue\n",
      "The color of the sky is a dark blue , a dark blue ( which is white and blue ) , and the surface is brown ( orange ) . The blue , orange and green surfaces show a variety of colours and the number\n"
     ]
    }
   ],
   "source": [
    "print(\"\\n\".join(learn_lm.predict(TEXT, N_WORDS, temperature=0.75) for _ in range(N_SENTENCES)))"
   ]
  },
  {
   "cell_type": "code",
   "execution_count": 113,
   "metadata": {},
   "outputs": [
    {
     "data": {
      "text/plain": [
       "'The color of the sky is used by'"
      ]
     },
     "execution_count": 113,
     "metadata": {},
     "output_type": "execute_result"
    }
   ],
   "source": [
    "learn_lm.predict(TEXT, 2)"
   ]
  },
  {
   "cell_type": "code",
   "execution_count": 116,
   "metadata": {},
   "outputs": [
    {
     "data": {
      "text/plain": [
       "torch.Size([1, 7])"
      ]
     },
     "execution_count": 116,
     "metadata": {},
     "output_type": "execute_result"
    }
   ],
   "source": [
    "learn_lm.data.one_item(\"The color of the sky\")[0].shape"
   ]
  },
  {
   "cell_type": "code",
   "execution_count": 123,
   "metadata": {},
   "outputs": [
    {
     "data": {
      "text/plain": [
       "tensor([[   2,    5,    9, 1424]])"
      ]
     },
     "execution_count": 123,
     "metadata": {},
     "output_type": "execute_result"
    }
   ],
   "source": [
    "learn_lm.data.one_item(\"The color\")[0]"
   ]
  },
  {
   "cell_type": "code",
   "execution_count": 121,
   "metadata": {},
   "outputs": [],
   "source": [
    "learn_lm.predict??"
   ]
  },
  {
   "cell_type": "code",
   "execution_count": 120,
   "metadata": {},
   "outputs": [],
   "source": [
    "learn_lm.model.reset??"
   ]
  },
  {
   "cell_type": "code",
   "execution_count": 137,
   "metadata": {},
   "outputs": [],
   "source": [
    "xb, _ = learn_lm.data.one_item(\"the the\")"
   ]
  },
  {
   "cell_type": "code",
   "execution_count": 138,
   "metadata": {},
   "outputs": [
    {
     "data": {
      "text/plain": [
       "tensor([[2, 9, 9]])"
      ]
     },
     "execution_count": 138,
     "metadata": {},
     "output_type": "execute_result"
    }
   ],
   "source": [
    "xb"
   ]
  },
  {
   "cell_type": "code",
   "execution_count": 140,
   "metadata": {},
   "outputs": [
    {
     "data": {
      "text/plain": [
       "tensor([[5]])"
      ]
     },
     "execution_count": 140,
     "metadata": {},
     "output_type": "execute_result"
    }
   ],
   "source": [
    "xb.new_tensor([5])[None]"
   ]
  },
  {
   "cell_type": "code",
   "execution_count": 141,
   "metadata": {},
   "outputs": [],
   "source": [
    "TEXT = \"I hated this movie\"\n",
    "N_WORDS = 30\n",
    "N_SENTENCES = 2"
   ]
  },
  {
   "cell_type": "code",
   "execution_count": 142,
   "metadata": {},
   "outputs": [
    {
     "name": "stdout",
     "output_type": "stream",
     "text": [
      "I hated this movie ( The Legend of Zelda : Awakening ) . Several years after the film 's release , controversy emerged in United States\n",
      "I hated this movie by Stanley Baldwin . He wrote , \" i don ' t care that something , even though i do have a science fiction , you know\n"
     ]
    }
   ],
   "source": [
    "print(\"\\n\".join(learn_lm.predict(TEXT, N_WORDS, temperature=0.75) for _ in range(N_SENTENCES)))"
   ]
  },
  {
   "cell_type": "code",
   "execution_count": 143,
   "metadata": {},
   "outputs": [
    {
     "name": "stdout",
     "output_type": "stream",
     "text": [
      "I hated this movie by American film director John F. Kennedy . In the 1997 film The Lord of the Banner , Kennedy refers to\n",
      "I hated this movie for its content and make - up , writing , \" i don ' t think that i wanted to do it . i was saying it 's not a\n"
     ]
    }
   ],
   "source": [
    "print(\"\\n\".join(learn_lm.predict(TEXT, N_WORDS, temperature=0.75) for _ in range(N_SENTENCES)))"
   ]
  },
  {
   "cell_type": "code",
   "execution_count": 144,
   "metadata": {},
   "outputs": [],
   "source": [
    "doc(LanguageLearner.predict)"
   ]
  },
  {
   "cell_type": "code",
   "execution_count": 145,
   "metadata": {},
   "outputs": [
    {
     "name": "stdout",
     "output_type": "stream",
     "text": [
      "I hated this movie by John Lennon , and he said , \" i ' m not sure what i ' m doing . It 's not a bad thing .\n",
      "I hated this movie by John Lennon , and he said he was \" a fan of the Beatles \" . He said that he was \" very proud of\n"
     ]
    }
   ],
   "source": [
    "print(\"\\n\".join(learn_lm.predict(TEXT, N_WORDS, temperature=0.10) for _ in range(N_SENTENCES)))"
   ]
  },
  {
   "cell_type": "code",
   "execution_count": 146,
   "metadata": {},
   "outputs": [],
   "source": [
    "doc(LanguageLearner.predict)"
   ]
  },
  {
   "cell_type": "code",
   "execution_count": 149,
   "metadata": {},
   "outputs": [
    {
     "name": "stdout",
     "output_type": "stream",
     "text": [
      "I hated this movie by John Lennon , and it was a reference to the American film The Lord of the Rings . The film was also\n",
      "I hated this movie by John Lennon , and he said that he was \" a fan of the Beatles \" . He also said that he was \" very\n"
     ]
    }
   ],
   "source": [
    "print(\"\\n\".join(learn_lm.predict(TEXT, N_WORDS, temperature=0.10) for _ in range(N_SENTENCES)))"
   ]
  },
  {
   "cell_type": "code",
   "execution_count": 153,
   "metadata": {},
   "outputs": [],
   "source": [
    "learn_lm.predict??"
   ]
  },
  {
   "cell_type": "code",
   "execution_count": 152,
   "metadata": {},
   "outputs": [
    {
     "data": {
      "text/plain": [
       "tensor([1.0240e-07, 1.0000e-10, 2.8248e-02])"
      ]
     },
     "execution_count": 152,
     "metadata": {},
     "output_type": "execute_result"
    }
   ],
   "source": [
    "torch.Tensor([0.2, 0.1, 0.7])**(1/0.1)"
   ]
  },
  {
   "cell_type": "markdown",
   "metadata": {},
   "source": [
    "### Training the model"
   ]
  },
  {
   "cell_type": "code",
   "execution_count": 154,
   "metadata": {},
   "outputs": [
    {
     "data": {
      "text/html": [],
      "text/plain": [
       "<IPython.core.display.HTML object>"
      ]
     },
     "metadata": {},
     "output_type": "display_data"
    },
    {
     "name": "stdout",
     "output_type": "stream",
     "text": [
      "LR Finder is complete, type {learner_name}.recorder.plot() to see the graph.\n"
     ]
    },
    {
     "ename": "KeyboardInterrupt",
     "evalue": "",
     "output_type": "error",
     "traceback": [
      "\u001b[0;31m---------------------------------------------------------------------------\u001b[0m",
      "\u001b[0;31mKeyboardInterrupt\u001b[0m                         Traceback (most recent call last)",
      "\u001b[0;32m<ipython-input-154-089a899fa911>\u001b[0m in \u001b[0;36m<module>\u001b[0;34m\u001b[0m\n\u001b[0;32m----> 1\u001b[0;31m \u001b[0mlearn_lm\u001b[0m\u001b[0;34m.\u001b[0m\u001b[0mlr_find\u001b[0m\u001b[0;34m(\u001b[0m\u001b[0;34m)\u001b[0m\u001b[0;34m\u001b[0m\u001b[0;34m\u001b[0m\u001b[0m\n\u001b[0m",
      "\u001b[0;32m~/anaconda3/envs/deeplearning/lib/python3.7/site-packages/fastai/train.py\u001b[0m in \u001b[0;36mlr_find\u001b[0;34m(learn, start_lr, end_lr, num_it, stop_div, wd)\u001b[0m\n\u001b[1;32m     39\u001b[0m     \u001b[0mcb\u001b[0m \u001b[0;34m=\u001b[0m \u001b[0mLRFinder\u001b[0m\u001b[0;34m(\u001b[0m\u001b[0mlearn\u001b[0m\u001b[0;34m,\u001b[0m \u001b[0mstart_lr\u001b[0m\u001b[0;34m,\u001b[0m \u001b[0mend_lr\u001b[0m\u001b[0;34m,\u001b[0m \u001b[0mnum_it\u001b[0m\u001b[0;34m,\u001b[0m \u001b[0mstop_div\u001b[0m\u001b[0;34m)\u001b[0m\u001b[0;34m\u001b[0m\u001b[0;34m\u001b[0m\u001b[0m\n\u001b[1;32m     40\u001b[0m     \u001b[0mepochs\u001b[0m \u001b[0;34m=\u001b[0m \u001b[0mint\u001b[0m\u001b[0;34m(\u001b[0m\u001b[0mnp\u001b[0m\u001b[0;34m.\u001b[0m\u001b[0mceil\u001b[0m\u001b[0;34m(\u001b[0m\u001b[0mnum_it\u001b[0m\u001b[0;34m/\u001b[0m\u001b[0mlen\u001b[0m\u001b[0;34m(\u001b[0m\u001b[0mlearn\u001b[0m\u001b[0;34m.\u001b[0m\u001b[0mdata\u001b[0m\u001b[0;34m.\u001b[0m\u001b[0mtrain_dl\u001b[0m\u001b[0;34m)\u001b[0m\u001b[0;34m)\u001b[0m\u001b[0;34m)\u001b[0m\u001b[0;34m\u001b[0m\u001b[0;34m\u001b[0m\u001b[0m\n\u001b[0;32m---> 41\u001b[0;31m     \u001b[0mlearn\u001b[0m\u001b[0;34m.\u001b[0m\u001b[0mfit\u001b[0m\u001b[0;34m(\u001b[0m\u001b[0mepochs\u001b[0m\u001b[0;34m,\u001b[0m \u001b[0mstart_lr\u001b[0m\u001b[0;34m,\u001b[0m \u001b[0mcallbacks\u001b[0m\u001b[0;34m=\u001b[0m\u001b[0;34m[\u001b[0m\u001b[0mcb\u001b[0m\u001b[0;34m]\u001b[0m\u001b[0;34m,\u001b[0m \u001b[0mwd\u001b[0m\u001b[0;34m=\u001b[0m\u001b[0mwd\u001b[0m\u001b[0;34m)\u001b[0m\u001b[0;34m\u001b[0m\u001b[0;34m\u001b[0m\u001b[0m\n\u001b[0m\u001b[1;32m     42\u001b[0m \u001b[0;34m\u001b[0m\u001b[0m\n\u001b[1;32m     43\u001b[0m def to_fp16(learn:Learner, loss_scale:float=None, max_noskip:int=1000, dynamic:bool=True, clip:float=None,\n",
      "\u001b[0;32m~/anaconda3/envs/deeplearning/lib/python3.7/site-packages/fastai/basic_train.py\u001b[0m in \u001b[0;36mfit\u001b[0;34m(self, epochs, lr, wd, callbacks)\u001b[0m\n\u001b[1;32m    198\u001b[0m         \u001b[0;32melse\u001b[0m\u001b[0;34m:\u001b[0m \u001b[0mself\u001b[0m\u001b[0;34m.\u001b[0m\u001b[0mopt\u001b[0m\u001b[0;34m.\u001b[0m\u001b[0mlr\u001b[0m\u001b[0;34m,\u001b[0m\u001b[0mself\u001b[0m\u001b[0;34m.\u001b[0m\u001b[0mopt\u001b[0m\u001b[0;34m.\u001b[0m\u001b[0mwd\u001b[0m \u001b[0;34m=\u001b[0m \u001b[0mlr\u001b[0m\u001b[0;34m,\u001b[0m\u001b[0mwd\u001b[0m\u001b[0;34m\u001b[0m\u001b[0;34m\u001b[0m\u001b[0m\n\u001b[1;32m    199\u001b[0m         \u001b[0mcallbacks\u001b[0m \u001b[0;34m=\u001b[0m \u001b[0;34m[\u001b[0m\u001b[0mcb\u001b[0m\u001b[0;34m(\u001b[0m\u001b[0mself\u001b[0m\u001b[0;34m)\u001b[0m \u001b[0;32mfor\u001b[0m \u001b[0mcb\u001b[0m \u001b[0;32min\u001b[0m \u001b[0mself\u001b[0m\u001b[0;34m.\u001b[0m\u001b[0mcallback_fns\u001b[0m \u001b[0;34m+\u001b[0m \u001b[0mlistify\u001b[0m\u001b[0;34m(\u001b[0m\u001b[0mdefaults\u001b[0m\u001b[0;34m.\u001b[0m\u001b[0mextra_callback_fns\u001b[0m\u001b[0;34m)\u001b[0m\u001b[0;34m]\u001b[0m \u001b[0;34m+\u001b[0m \u001b[0mlistify\u001b[0m\u001b[0;34m(\u001b[0m\u001b[0mcallbacks\u001b[0m\u001b[0;34m)\u001b[0m\u001b[0;34m\u001b[0m\u001b[0;34m\u001b[0m\u001b[0m\n\u001b[0;32m--> 200\u001b[0;31m         \u001b[0mfit\u001b[0m\u001b[0;34m(\u001b[0m\u001b[0mepochs\u001b[0m\u001b[0;34m,\u001b[0m \u001b[0mself\u001b[0m\u001b[0;34m,\u001b[0m \u001b[0mmetrics\u001b[0m\u001b[0;34m=\u001b[0m\u001b[0mself\u001b[0m\u001b[0;34m.\u001b[0m\u001b[0mmetrics\u001b[0m\u001b[0;34m,\u001b[0m \u001b[0mcallbacks\u001b[0m\u001b[0;34m=\u001b[0m\u001b[0mself\u001b[0m\u001b[0;34m.\u001b[0m\u001b[0mcallbacks\u001b[0m\u001b[0;34m+\u001b[0m\u001b[0mcallbacks\u001b[0m\u001b[0;34m)\u001b[0m\u001b[0;34m\u001b[0m\u001b[0;34m\u001b[0m\u001b[0m\n\u001b[0m\u001b[1;32m    201\u001b[0m \u001b[0;34m\u001b[0m\u001b[0m\n\u001b[1;32m    202\u001b[0m     \u001b[0;32mdef\u001b[0m \u001b[0mcreate_opt\u001b[0m\u001b[0;34m(\u001b[0m\u001b[0mself\u001b[0m\u001b[0;34m,\u001b[0m \u001b[0mlr\u001b[0m\u001b[0;34m:\u001b[0m\u001b[0mFloats\u001b[0m\u001b[0;34m,\u001b[0m \u001b[0mwd\u001b[0m\u001b[0;34m:\u001b[0m\u001b[0mFloats\u001b[0m\u001b[0;34m=\u001b[0m\u001b[0;36m0.\u001b[0m\u001b[0;34m)\u001b[0m\u001b[0;34m->\u001b[0m\u001b[0;32mNone\u001b[0m\u001b[0;34m:\u001b[0m\u001b[0;34m\u001b[0m\u001b[0;34m\u001b[0m\u001b[0m\n",
      "\u001b[0;32m~/anaconda3/envs/deeplearning/lib/python3.7/site-packages/fastai/basic_train.py\u001b[0m in \u001b[0;36mfit\u001b[0;34m(epochs, learn, callbacks, metrics)\u001b[0m\n\u001b[1;32m     99\u001b[0m             \u001b[0;32mfor\u001b[0m \u001b[0mxb\u001b[0m\u001b[0;34m,\u001b[0m\u001b[0myb\u001b[0m \u001b[0;32min\u001b[0m \u001b[0mprogress_bar\u001b[0m\u001b[0;34m(\u001b[0m\u001b[0mlearn\u001b[0m\u001b[0;34m.\u001b[0m\u001b[0mdata\u001b[0m\u001b[0;34m.\u001b[0m\u001b[0mtrain_dl\u001b[0m\u001b[0;34m,\u001b[0m \u001b[0mparent\u001b[0m\u001b[0;34m=\u001b[0m\u001b[0mpbar\u001b[0m\u001b[0;34m)\u001b[0m\u001b[0;34m:\u001b[0m\u001b[0;34m\u001b[0m\u001b[0;34m\u001b[0m\u001b[0m\n\u001b[1;32m    100\u001b[0m                 \u001b[0mxb\u001b[0m\u001b[0;34m,\u001b[0m \u001b[0myb\u001b[0m \u001b[0;34m=\u001b[0m \u001b[0mcb_handler\u001b[0m\u001b[0;34m.\u001b[0m\u001b[0mon_batch_begin\u001b[0m\u001b[0;34m(\u001b[0m\u001b[0mxb\u001b[0m\u001b[0;34m,\u001b[0m \u001b[0myb\u001b[0m\u001b[0;34m)\u001b[0m\u001b[0;34m\u001b[0m\u001b[0;34m\u001b[0m\u001b[0m\n\u001b[0;32m--> 101\u001b[0;31m                 \u001b[0mloss\u001b[0m \u001b[0;34m=\u001b[0m \u001b[0mloss_batch\u001b[0m\u001b[0;34m(\u001b[0m\u001b[0mlearn\u001b[0m\u001b[0;34m.\u001b[0m\u001b[0mmodel\u001b[0m\u001b[0;34m,\u001b[0m \u001b[0mxb\u001b[0m\u001b[0;34m,\u001b[0m \u001b[0myb\u001b[0m\u001b[0;34m,\u001b[0m \u001b[0mlearn\u001b[0m\u001b[0;34m.\u001b[0m\u001b[0mloss_func\u001b[0m\u001b[0;34m,\u001b[0m \u001b[0mlearn\u001b[0m\u001b[0;34m.\u001b[0m\u001b[0mopt\u001b[0m\u001b[0;34m,\u001b[0m \u001b[0mcb_handler\u001b[0m\u001b[0;34m)\u001b[0m\u001b[0;34m\u001b[0m\u001b[0;34m\u001b[0m\u001b[0m\n\u001b[0m\u001b[1;32m    102\u001b[0m                 \u001b[0;32mif\u001b[0m \u001b[0mcb_handler\u001b[0m\u001b[0;34m.\u001b[0m\u001b[0mon_batch_end\u001b[0m\u001b[0;34m(\u001b[0m\u001b[0mloss\u001b[0m\u001b[0;34m)\u001b[0m\u001b[0;34m:\u001b[0m \u001b[0;32mbreak\u001b[0m\u001b[0;34m\u001b[0m\u001b[0;34m\u001b[0m\u001b[0m\n\u001b[1;32m    103\u001b[0m \u001b[0;34m\u001b[0m\u001b[0m\n",
      "\u001b[0;32m~/anaconda3/envs/deeplearning/lib/python3.7/site-packages/fastai/basic_train.py\u001b[0m in \u001b[0;36mloss_batch\u001b[0;34m(model, xb, yb, loss_func, opt, cb_handler)\u001b[0m\n\u001b[1;32m     24\u001b[0m     \u001b[0;32mif\u001b[0m \u001b[0;32mnot\u001b[0m \u001b[0mis_listy\u001b[0m\u001b[0;34m(\u001b[0m\u001b[0mxb\u001b[0m\u001b[0;34m)\u001b[0m\u001b[0;34m:\u001b[0m \u001b[0mxb\u001b[0m \u001b[0;34m=\u001b[0m \u001b[0;34m[\u001b[0m\u001b[0mxb\u001b[0m\u001b[0;34m]\u001b[0m\u001b[0;34m\u001b[0m\u001b[0;34m\u001b[0m\u001b[0m\n\u001b[1;32m     25\u001b[0m     \u001b[0;32mif\u001b[0m \u001b[0;32mnot\u001b[0m \u001b[0mis_listy\u001b[0m\u001b[0;34m(\u001b[0m\u001b[0myb\u001b[0m\u001b[0;34m)\u001b[0m\u001b[0;34m:\u001b[0m \u001b[0myb\u001b[0m \u001b[0;34m=\u001b[0m \u001b[0;34m[\u001b[0m\u001b[0myb\u001b[0m\u001b[0;34m]\u001b[0m\u001b[0;34m\u001b[0m\u001b[0;34m\u001b[0m\u001b[0m\n\u001b[0;32m---> 26\u001b[0;31m     \u001b[0mout\u001b[0m \u001b[0;34m=\u001b[0m \u001b[0mmodel\u001b[0m\u001b[0;34m(\u001b[0m\u001b[0;34m*\u001b[0m\u001b[0mxb\u001b[0m\u001b[0;34m)\u001b[0m\u001b[0;34m\u001b[0m\u001b[0;34m\u001b[0m\u001b[0m\n\u001b[0m\u001b[1;32m     27\u001b[0m     \u001b[0mout\u001b[0m \u001b[0;34m=\u001b[0m \u001b[0mcb_handler\u001b[0m\u001b[0;34m.\u001b[0m\u001b[0mon_loss_begin\u001b[0m\u001b[0;34m(\u001b[0m\u001b[0mout\u001b[0m\u001b[0;34m)\u001b[0m\u001b[0;34m\u001b[0m\u001b[0;34m\u001b[0m\u001b[0m\n\u001b[1;32m     28\u001b[0m \u001b[0;34m\u001b[0m\u001b[0m\n",
      "\u001b[0;32m~/anaconda3/envs/deeplearning/lib/python3.7/site-packages/torch/nn/modules/module.py\u001b[0m in \u001b[0;36m__call__\u001b[0;34m(self, *input, **kwargs)\u001b[0m\n\u001b[1;32m    545\u001b[0m             \u001b[0mresult\u001b[0m \u001b[0;34m=\u001b[0m \u001b[0mself\u001b[0m\u001b[0;34m.\u001b[0m\u001b[0m_slow_forward\u001b[0m\u001b[0;34m(\u001b[0m\u001b[0;34m*\u001b[0m\u001b[0minput\u001b[0m\u001b[0;34m,\u001b[0m \u001b[0;34m**\u001b[0m\u001b[0mkwargs\u001b[0m\u001b[0;34m)\u001b[0m\u001b[0;34m\u001b[0m\u001b[0;34m\u001b[0m\u001b[0m\n\u001b[1;32m    546\u001b[0m         \u001b[0;32melse\u001b[0m\u001b[0;34m:\u001b[0m\u001b[0;34m\u001b[0m\u001b[0;34m\u001b[0m\u001b[0m\n\u001b[0;32m--> 547\u001b[0;31m             \u001b[0mresult\u001b[0m \u001b[0;34m=\u001b[0m \u001b[0mself\u001b[0m\u001b[0;34m.\u001b[0m\u001b[0mforward\u001b[0m\u001b[0;34m(\u001b[0m\u001b[0;34m*\u001b[0m\u001b[0minput\u001b[0m\u001b[0;34m,\u001b[0m \u001b[0;34m**\u001b[0m\u001b[0mkwargs\u001b[0m\u001b[0;34m)\u001b[0m\u001b[0;34m\u001b[0m\u001b[0;34m\u001b[0m\u001b[0m\n\u001b[0m\u001b[1;32m    548\u001b[0m         \u001b[0;32mfor\u001b[0m \u001b[0mhook\u001b[0m \u001b[0;32min\u001b[0m \u001b[0mself\u001b[0m\u001b[0;34m.\u001b[0m\u001b[0m_forward_hooks\u001b[0m\u001b[0;34m.\u001b[0m\u001b[0mvalues\u001b[0m\u001b[0;34m(\u001b[0m\u001b[0;34m)\u001b[0m\u001b[0;34m:\u001b[0m\u001b[0;34m\u001b[0m\u001b[0;34m\u001b[0m\u001b[0m\n\u001b[1;32m    549\u001b[0m             \u001b[0mhook_result\u001b[0m \u001b[0;34m=\u001b[0m \u001b[0mhook\u001b[0m\u001b[0;34m(\u001b[0m\u001b[0mself\u001b[0m\u001b[0;34m,\u001b[0m \u001b[0minput\u001b[0m\u001b[0;34m,\u001b[0m \u001b[0mresult\u001b[0m\u001b[0;34m)\u001b[0m\u001b[0;34m\u001b[0m\u001b[0;34m\u001b[0m\u001b[0m\n",
      "\u001b[0;32m~/anaconda3/envs/deeplearning/lib/python3.7/site-packages/torch/nn/modules/container.py\u001b[0m in \u001b[0;36mforward\u001b[0;34m(self, input)\u001b[0m\n\u001b[1;32m     90\u001b[0m     \u001b[0;32mdef\u001b[0m \u001b[0mforward\u001b[0m\u001b[0;34m(\u001b[0m\u001b[0mself\u001b[0m\u001b[0;34m,\u001b[0m \u001b[0minput\u001b[0m\u001b[0;34m)\u001b[0m\u001b[0;34m:\u001b[0m\u001b[0;34m\u001b[0m\u001b[0;34m\u001b[0m\u001b[0m\n\u001b[1;32m     91\u001b[0m         \u001b[0;32mfor\u001b[0m \u001b[0mmodule\u001b[0m \u001b[0;32min\u001b[0m \u001b[0mself\u001b[0m\u001b[0;34m.\u001b[0m\u001b[0m_modules\u001b[0m\u001b[0;34m.\u001b[0m\u001b[0mvalues\u001b[0m\u001b[0;34m(\u001b[0m\u001b[0;34m)\u001b[0m\u001b[0;34m:\u001b[0m\u001b[0;34m\u001b[0m\u001b[0;34m\u001b[0m\u001b[0m\n\u001b[0;32m---> 92\u001b[0;31m             \u001b[0minput\u001b[0m \u001b[0;34m=\u001b[0m \u001b[0mmodule\u001b[0m\u001b[0;34m(\u001b[0m\u001b[0minput\u001b[0m\u001b[0;34m)\u001b[0m\u001b[0;34m\u001b[0m\u001b[0;34m\u001b[0m\u001b[0m\n\u001b[0m\u001b[1;32m     93\u001b[0m         \u001b[0;32mreturn\u001b[0m \u001b[0minput\u001b[0m\u001b[0;34m\u001b[0m\u001b[0;34m\u001b[0m\u001b[0m\n\u001b[1;32m     94\u001b[0m \u001b[0;34m\u001b[0m\u001b[0m\n",
      "\u001b[0;32m~/anaconda3/envs/deeplearning/lib/python3.7/site-packages/torch/nn/modules/module.py\u001b[0m in \u001b[0;36m__call__\u001b[0;34m(self, *input, **kwargs)\u001b[0m\n\u001b[1;32m    545\u001b[0m             \u001b[0mresult\u001b[0m \u001b[0;34m=\u001b[0m \u001b[0mself\u001b[0m\u001b[0;34m.\u001b[0m\u001b[0m_slow_forward\u001b[0m\u001b[0;34m(\u001b[0m\u001b[0;34m*\u001b[0m\u001b[0minput\u001b[0m\u001b[0;34m,\u001b[0m \u001b[0;34m**\u001b[0m\u001b[0mkwargs\u001b[0m\u001b[0;34m)\u001b[0m\u001b[0;34m\u001b[0m\u001b[0;34m\u001b[0m\u001b[0m\n\u001b[1;32m    546\u001b[0m         \u001b[0;32melse\u001b[0m\u001b[0;34m:\u001b[0m\u001b[0;34m\u001b[0m\u001b[0;34m\u001b[0m\u001b[0m\n\u001b[0;32m--> 547\u001b[0;31m             \u001b[0mresult\u001b[0m \u001b[0;34m=\u001b[0m \u001b[0mself\u001b[0m\u001b[0;34m.\u001b[0m\u001b[0mforward\u001b[0m\u001b[0;34m(\u001b[0m\u001b[0;34m*\u001b[0m\u001b[0minput\u001b[0m\u001b[0;34m,\u001b[0m \u001b[0;34m**\u001b[0m\u001b[0mkwargs\u001b[0m\u001b[0;34m)\u001b[0m\u001b[0;34m\u001b[0m\u001b[0;34m\u001b[0m\u001b[0m\n\u001b[0m\u001b[1;32m    548\u001b[0m         \u001b[0;32mfor\u001b[0m \u001b[0mhook\u001b[0m \u001b[0;32min\u001b[0m \u001b[0mself\u001b[0m\u001b[0;34m.\u001b[0m\u001b[0m_forward_hooks\u001b[0m\u001b[0;34m.\u001b[0m\u001b[0mvalues\u001b[0m\u001b[0;34m(\u001b[0m\u001b[0;34m)\u001b[0m\u001b[0;34m:\u001b[0m\u001b[0;34m\u001b[0m\u001b[0;34m\u001b[0m\u001b[0m\n\u001b[1;32m    549\u001b[0m             \u001b[0mhook_result\u001b[0m \u001b[0;34m=\u001b[0m \u001b[0mhook\u001b[0m\u001b[0;34m(\u001b[0m\u001b[0mself\u001b[0m\u001b[0;34m,\u001b[0m \u001b[0minput\u001b[0m\u001b[0;34m,\u001b[0m \u001b[0mresult\u001b[0m\u001b[0;34m)\u001b[0m\u001b[0;34m\u001b[0m\u001b[0;34m\u001b[0m\u001b[0m\n",
      "\u001b[0;32m~/anaconda3/envs/deeplearning/lib/python3.7/site-packages/fastai/text/models/awd_lstm.py\u001b[0m in \u001b[0;36mforward\u001b[0;34m(self, input, from_embeddings)\u001b[0m\n\u001b[1;32m    107\u001b[0m             \u001b[0mself\u001b[0m\u001b[0;34m.\u001b[0m\u001b[0mbs\u001b[0m\u001b[0;34m=\u001b[0m\u001b[0mbs\u001b[0m\u001b[0;34m\u001b[0m\u001b[0;34m\u001b[0m\u001b[0m\n\u001b[1;32m    108\u001b[0m             \u001b[0mself\u001b[0m\u001b[0;34m.\u001b[0m\u001b[0mreset\u001b[0m\u001b[0;34m(\u001b[0m\u001b[0;34m)\u001b[0m\u001b[0;34m\u001b[0m\u001b[0;34m\u001b[0m\u001b[0m\n\u001b[0;32m--> 109\u001b[0;31m         \u001b[0mraw_output\u001b[0m \u001b[0;34m=\u001b[0m \u001b[0mself\u001b[0m\u001b[0;34m.\u001b[0m\u001b[0minput_dp\u001b[0m\u001b[0;34m(\u001b[0m\u001b[0minput\u001b[0m \u001b[0;32mif\u001b[0m \u001b[0mfrom_embeddings\u001b[0m \u001b[0;32melse\u001b[0m \u001b[0mself\u001b[0m\u001b[0;34m.\u001b[0m\u001b[0mencoder_dp\u001b[0m\u001b[0;34m(\u001b[0m\u001b[0minput\u001b[0m\u001b[0;34m)\u001b[0m\u001b[0;34m)\u001b[0m\u001b[0;34m\u001b[0m\u001b[0;34m\u001b[0m\u001b[0m\n\u001b[0m\u001b[1;32m    110\u001b[0m         \u001b[0mnew_hidden\u001b[0m\u001b[0;34m,\u001b[0m\u001b[0mraw_outputs\u001b[0m\u001b[0;34m,\u001b[0m\u001b[0moutputs\u001b[0m \u001b[0;34m=\u001b[0m \u001b[0;34m[\u001b[0m\u001b[0;34m]\u001b[0m\u001b[0;34m,\u001b[0m\u001b[0;34m[\u001b[0m\u001b[0;34m]\u001b[0m\u001b[0;34m,\u001b[0m\u001b[0;34m[\u001b[0m\u001b[0;34m]\u001b[0m\u001b[0;34m\u001b[0m\u001b[0;34m\u001b[0m\u001b[0m\n\u001b[1;32m    111\u001b[0m         \u001b[0;32mfor\u001b[0m \u001b[0ml\u001b[0m\u001b[0;34m,\u001b[0m \u001b[0;34m(\u001b[0m\u001b[0mrnn\u001b[0m\u001b[0;34m,\u001b[0m\u001b[0mhid_dp\u001b[0m\u001b[0;34m)\u001b[0m \u001b[0;32min\u001b[0m \u001b[0menumerate\u001b[0m\u001b[0;34m(\u001b[0m\u001b[0mzip\u001b[0m\u001b[0;34m(\u001b[0m\u001b[0mself\u001b[0m\u001b[0;34m.\u001b[0m\u001b[0mrnns\u001b[0m\u001b[0;34m,\u001b[0m \u001b[0mself\u001b[0m\u001b[0;34m.\u001b[0m\u001b[0mhidden_dps\u001b[0m\u001b[0;34m)\u001b[0m\u001b[0;34m)\u001b[0m\u001b[0;34m:\u001b[0m\u001b[0;34m\u001b[0m\u001b[0;34m\u001b[0m\u001b[0m\n",
      "\u001b[0;32m~/anaconda3/envs/deeplearning/lib/python3.7/site-packages/torch/nn/modules/module.py\u001b[0m in \u001b[0;36m__call__\u001b[0;34m(self, *input, **kwargs)\u001b[0m\n\u001b[1;32m    545\u001b[0m             \u001b[0mresult\u001b[0m \u001b[0;34m=\u001b[0m \u001b[0mself\u001b[0m\u001b[0;34m.\u001b[0m\u001b[0m_slow_forward\u001b[0m\u001b[0;34m(\u001b[0m\u001b[0;34m*\u001b[0m\u001b[0minput\u001b[0m\u001b[0;34m,\u001b[0m \u001b[0;34m**\u001b[0m\u001b[0mkwargs\u001b[0m\u001b[0;34m)\u001b[0m\u001b[0;34m\u001b[0m\u001b[0;34m\u001b[0m\u001b[0m\n\u001b[1;32m    546\u001b[0m         \u001b[0;32melse\u001b[0m\u001b[0;34m:\u001b[0m\u001b[0;34m\u001b[0m\u001b[0;34m\u001b[0m\u001b[0m\n\u001b[0;32m--> 547\u001b[0;31m             \u001b[0mresult\u001b[0m \u001b[0;34m=\u001b[0m \u001b[0mself\u001b[0m\u001b[0;34m.\u001b[0m\u001b[0mforward\u001b[0m\u001b[0;34m(\u001b[0m\u001b[0;34m*\u001b[0m\u001b[0minput\u001b[0m\u001b[0;34m,\u001b[0m \u001b[0;34m**\u001b[0m\u001b[0mkwargs\u001b[0m\u001b[0;34m)\u001b[0m\u001b[0;34m\u001b[0m\u001b[0;34m\u001b[0m\u001b[0m\n\u001b[0m\u001b[1;32m    548\u001b[0m         \u001b[0;32mfor\u001b[0m \u001b[0mhook\u001b[0m \u001b[0;32min\u001b[0m \u001b[0mself\u001b[0m\u001b[0;34m.\u001b[0m\u001b[0m_forward_hooks\u001b[0m\u001b[0;34m.\u001b[0m\u001b[0mvalues\u001b[0m\u001b[0;34m(\u001b[0m\u001b[0;34m)\u001b[0m\u001b[0;34m:\u001b[0m\u001b[0;34m\u001b[0m\u001b[0;34m\u001b[0m\u001b[0m\n\u001b[1;32m    549\u001b[0m             \u001b[0mhook_result\u001b[0m \u001b[0;34m=\u001b[0m \u001b[0mhook\u001b[0m\u001b[0;34m(\u001b[0m\u001b[0mself\u001b[0m\u001b[0;34m,\u001b[0m \u001b[0minput\u001b[0m\u001b[0;34m,\u001b[0m \u001b[0mresult\u001b[0m\u001b[0;34m)\u001b[0m\u001b[0;34m\u001b[0m\u001b[0;34m\u001b[0m\u001b[0m\n",
      "\u001b[0;32m~/anaconda3/envs/deeplearning/lib/python3.7/site-packages/fastai/text/models/awd_lstm.py\u001b[0m in \u001b[0;36mforward\u001b[0;34m(self, words, scale)\u001b[0m\n\u001b[1;32m     67\u001b[0m             \u001b[0msize\u001b[0m \u001b[0;34m=\u001b[0m \u001b[0;34m(\u001b[0m\u001b[0mself\u001b[0m\u001b[0;34m.\u001b[0m\u001b[0memb\u001b[0m\u001b[0;34m.\u001b[0m\u001b[0mweight\u001b[0m\u001b[0;34m.\u001b[0m\u001b[0msize\u001b[0m\u001b[0;34m(\u001b[0m\u001b[0;36m0\u001b[0m\u001b[0;34m)\u001b[0m\u001b[0;34m,\u001b[0m\u001b[0;36m1\u001b[0m\u001b[0;34m)\u001b[0m\u001b[0;34m\u001b[0m\u001b[0;34m\u001b[0m\u001b[0m\n\u001b[1;32m     68\u001b[0m             \u001b[0mmask\u001b[0m \u001b[0;34m=\u001b[0m \u001b[0mdropout_mask\u001b[0m\u001b[0;34m(\u001b[0m\u001b[0mself\u001b[0m\u001b[0;34m.\u001b[0m\u001b[0memb\u001b[0m\u001b[0;34m.\u001b[0m\u001b[0mweight\u001b[0m\u001b[0;34m.\u001b[0m\u001b[0mdata\u001b[0m\u001b[0;34m,\u001b[0m \u001b[0msize\u001b[0m\u001b[0;34m,\u001b[0m \u001b[0mself\u001b[0m\u001b[0;34m.\u001b[0m\u001b[0membed_p\u001b[0m\u001b[0;34m)\u001b[0m\u001b[0;34m\u001b[0m\u001b[0;34m\u001b[0m\u001b[0m\n\u001b[0;32m---> 69\u001b[0;31m             \u001b[0mmasked_embed\u001b[0m \u001b[0;34m=\u001b[0m \u001b[0mself\u001b[0m\u001b[0;34m.\u001b[0m\u001b[0memb\u001b[0m\u001b[0;34m.\u001b[0m\u001b[0mweight\u001b[0m \u001b[0;34m*\u001b[0m \u001b[0mmask\u001b[0m\u001b[0;34m\u001b[0m\u001b[0;34m\u001b[0m\u001b[0m\n\u001b[0m\u001b[1;32m     70\u001b[0m         \u001b[0;32melse\u001b[0m\u001b[0;34m:\u001b[0m \u001b[0mmasked_embed\u001b[0m \u001b[0;34m=\u001b[0m \u001b[0mself\u001b[0m\u001b[0;34m.\u001b[0m\u001b[0memb\u001b[0m\u001b[0;34m.\u001b[0m\u001b[0mweight\u001b[0m\u001b[0;34m\u001b[0m\u001b[0;34m\u001b[0m\u001b[0m\n\u001b[1;32m     71\u001b[0m         \u001b[0;32mif\u001b[0m \u001b[0mscale\u001b[0m\u001b[0;34m:\u001b[0m \u001b[0mmasked_embed\u001b[0m\u001b[0;34m.\u001b[0m\u001b[0mmul_\u001b[0m\u001b[0;34m(\u001b[0m\u001b[0mscale\u001b[0m\u001b[0;34m)\u001b[0m\u001b[0;34m\u001b[0m\u001b[0;34m\u001b[0m\u001b[0m\n",
      "\u001b[0;31mKeyboardInterrupt\u001b[0m: "
     ]
    }
   ],
   "source": [
    "learn_lm.lr_find()"
   ]
  },
  {
   "cell_type": "code",
   "execution_count": null,
   "metadata": {},
   "outputs": [],
   "source": []
  }
 ],
 "metadata": {
  "kernelspec": {
   "display_name": "Python 3",
   "language": "python",
   "name": "python3"
  },
  "language_info": {
   "codemirror_mode": {
    "name": "ipython",
    "version": 3
   },
   "file_extension": ".py",
   "mimetype": "text/x-python",
   "name": "python",
   "nbconvert_exporter": "python",
   "pygments_lexer": "ipython3",
   "version": "3.7.4"
  }
 },
 "nbformat": 4,
 "nbformat_minor": 2
}
