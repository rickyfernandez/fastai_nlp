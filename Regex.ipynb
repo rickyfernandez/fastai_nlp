{
 "cells": [
  {
   "cell_type": "code",
   "execution_count": 2,
   "metadata": {},
   "outputs": [],
   "source": [
    "import re"
   ]
  },
  {
   "cell_type": "code",
   "execution_count": 3,
   "metadata": {},
   "outputs": [],
   "source": [
    "phone = '123-456-7891'"
   ]
  },
  {
   "cell_type": "code",
   "execution_count": 4,
   "metadata": {},
   "outputs": [],
   "source": [
    "re_phone = re.compile(\"[0-9][0-9][0-9]-[0-9][0-9][0-9]-[0-9][0-9][0-9][0-9]\")"
   ]
  },
  {
   "cell_type": "code",
   "execution_count": 11,
   "metadata": {},
   "outputs": [
    {
     "data": {
      "text/plain": [
       "['123-456-7891']"
      ]
     },
     "execution_count": 11,
     "metadata": {},
     "output_type": "execute_result"
    }
   ],
   "source": [
    "re_phone.findall(phone)"
   ]
  },
  {
   "cell_type": "code",
   "execution_count": 12,
   "metadata": {},
   "outputs": [],
   "source": [
    "re_phone = re.compile(\"\\d\\d\\d-\\d\\d\\d-\\d\\d\\d\\d\")"
   ]
  },
  {
   "cell_type": "code",
   "execution_count": 13,
   "metadata": {},
   "outputs": [
    {
     "data": {
      "text/plain": [
       "['123-456-7891']"
      ]
     },
     "execution_count": 13,
     "metadata": {},
     "output_type": "execute_result"
    }
   ],
   "source": [
    "re_phone.findall(phone)"
   ]
  },
  {
   "cell_type": "code",
   "execution_count": 14,
   "metadata": {},
   "outputs": [],
   "source": [
    "re_phone = re.compile('\\d{3}-\\d{3}-\\d{4}')"
   ]
  },
  {
   "cell_type": "code",
   "execution_count": 15,
   "metadata": {},
   "outputs": [
    {
     "data": {
      "text/plain": [
       "['123-456-7891']"
      ]
     },
     "execution_count": 15,
     "metadata": {},
     "output_type": "execute_result"
    }
   ],
   "source": [
    "re_phone.findall(phone)"
   ]
  },
  {
   "cell_type": "code",
   "execution_count": 17,
   "metadata": {},
   "outputs": [
    {
     "data": {
      "text/plain": [
       "['123-456-7891']"
      ]
     },
     "execution_count": 17,
     "metadata": {},
     "output_type": "execute_result"
    }
   ],
   "source": [
    "re_phone = re.compile('\\d+-\\d+-\\d+')\n",
    "re_phone.findall(phone)"
   ]
  },
  {
   "cell_type": "code",
   "execution_count": 18,
   "metadata": {},
   "outputs": [],
   "source": [
    "re_punc = re.compile(\"([\\\"\\''().,;:/_?!-\\-])\")"
   ]
  },
  {
   "cell_type": "code",
   "execution_count": 21,
   "metadata": {},
   "outputs": [
    {
     "data": {
      "text/plain": [
       "\"I don ' t know who Kara ' s new friend is -  -  is it  ' Mr .  Toad '  ? \""
      ]
     },
     "execution_count": 21,
     "metadata": {},
     "output_type": "execute_result"
    }
   ],
   "source": [
    "text = \"I don't know who Kara's new friend is-- is it 'Mr. Toad'?\"\n",
    "re_punc.sub(r\" \\1 \", text)"
   ]
  },
  {
   "cell_type": "code",
   "execution_count": 42,
   "metadata": {},
   "outputs": [
    {
     "data": {
      "text/plain": [
       "[\"'\", \"'\", '(', ')', '.', ',', '_', '_', '?', '-']"
      ]
     },
     "execution_count": 42,
     "metadata": {},
     "output_type": "execute_result"
    }
   ],
   "source": [
    "re_punc.findall(\"Hello ''().,__?-\")"
   ]
  },
  {
   "cell_type": "code",
   "execution_count": 44,
   "metadata": {},
   "outputs": [],
   "source": [
    "re_punc = re.compile(\"([\\\"\\''().,;:/_?!—\\-])\") # add spaces around punctuation\n",
    "re_apos = re.compile(r\"n ' t \")    # n't\n",
    "re_bpos = re.compile(r\" ' s \")     # 's\n",
    "re_mult_space = re.compile(r\"  *\") # replace multiple spaces with just one\n",
    "\n",
    "def simple_toks(sent):\n",
    "    sent = re_punc.sub(r\" \\1 \", sent)\n",
    "    sent = re_apos.sub(r\" n't \", sent)\n",
    "    sent = re_bpos.sub(r\" 's \", sent)\n",
    "    sent = re_mult_space.sub(' ', sent)\n",
    "    return sent.lower().split()"
   ]
  },
  {
   "cell_type": "code",
   "execution_count": 45,
   "metadata": {},
   "outputs": [
    {
     "data": {
      "text/plain": [
       "\"i do n't know who kara 's new friend is - - is it ' mr . toad ' ?\""
      ]
     },
     "execution_count": 45,
     "metadata": {},
     "output_type": "execute_result"
    }
   ],
   "source": [
    "' '.join(simple_toks(text))"
   ]
  },
  {
   "cell_type": "code",
   "execution_count": 50,
   "metadata": {},
   "outputs": [
    {
     "data": {
      "text/plain": [
       "\"I don ' t know who Kara ' s new friend is -  -  is it  ' Mr .  Toad '  ? \""
      ]
     },
     "execution_count": 50,
     "metadata": {},
     "output_type": "execute_result"
    }
   ],
   "source": [
    "text2 = re_punc.sub(r\" \\1 \", text); text2"
   ]
  },
  {
   "cell_type": "code",
   "execution_count": 51,
   "metadata": {},
   "outputs": [
    {
     "data": {
      "text/plain": [
       "\"I do n't know who Kara ' s new friend is -  -  is it  ' Mr .  Toad '  ? \""
      ]
     },
     "execution_count": 51,
     "metadata": {},
     "output_type": "execute_result"
    }
   ],
   "source": [
    "text3 = re_apos.sub(r\" n't \", text2); text3"
   ]
  },
  {
   "cell_type": "code",
   "execution_count": 52,
   "metadata": {},
   "outputs": [
    {
     "data": {
      "text/plain": [
       "\"I do n't know who Kara 's new friend is -  -  is it  ' Mr .  Toad '  ? \""
      ]
     },
     "execution_count": 52,
     "metadata": {},
     "output_type": "execute_result"
    }
   ],
   "source": [
    "text4 = re_bpos.sub(r\" 's \", text3); text4"
   ]
  },
  {
   "cell_type": "code",
   "execution_count": 53,
   "metadata": {},
   "outputs": [],
   "source": [
    "sentences = ['All this happened, more or less.',\n",
    "             'The war parts, anyway, are pretty much true.',\n",
    "             \"One guy I knew really was shot for taking a teapot that wasn't his.\",\n",
    "             'Another guy I knew really did threaten to have his personal enemies killed by hired gunmen after the war.',\n",
    "             'And so on.',\n",
    "             \"I've changed all their names.\"]"
   ]
  },
  {
   "cell_type": "code",
   "execution_count": 54,
   "metadata": {},
   "outputs": [],
   "source": [
    "tokens = list(map(simple_toks, sentences))"
   ]
  },
  {
   "cell_type": "code",
   "execution_count": 55,
   "metadata": {},
   "outputs": [
    {
     "data": {
      "text/plain": [
       "[['all', 'this', 'happened', ',', 'more', 'or', 'less', '.'],\n",
       " ['the',\n",
       "  'war',\n",
       "  'parts',\n",
       "  ',',\n",
       "  'anyway',\n",
       "  ',',\n",
       "  'are',\n",
       "  'pretty',\n",
       "  'much',\n",
       "  'true',\n",
       "  '.'],\n",
       " ['one',\n",
       "  'guy',\n",
       "  'i',\n",
       "  'knew',\n",
       "  'really',\n",
       "  'was',\n",
       "  'shot',\n",
       "  'for',\n",
       "  'taking',\n",
       "  'a',\n",
       "  'teapot',\n",
       "  'that',\n",
       "  'was',\n",
       "  \"n't\",\n",
       "  'his',\n",
       "  '.'],\n",
       " ['another',\n",
       "  'guy',\n",
       "  'i',\n",
       "  'knew',\n",
       "  'really',\n",
       "  'did',\n",
       "  'threaten',\n",
       "  'to',\n",
       "  'have',\n",
       "  'his',\n",
       "  'personal',\n",
       "  'enemies',\n",
       "  'killed',\n",
       "  'by',\n",
       "  'hired',\n",
       "  'gunmen',\n",
       "  'after',\n",
       "  'the',\n",
       "  'war',\n",
       "  '.'],\n",
       " ['and', 'so', 'on', '.'],\n",
       " ['i', \"'\", 've', 'changed', 'all', 'their', 'names', '.']]"
      ]
     },
     "execution_count": 55,
     "metadata": {},
     "output_type": "execute_result"
    }
   ],
   "source": [
    "tokens"
   ]
  },
  {
   "cell_type": "code",
   "execution_count": 56,
   "metadata": {},
   "outputs": [],
   "source": [
    "import collections"
   ]
  },
  {
   "cell_type": "code",
   "execution_count": 59,
   "metadata": {},
   "outputs": [],
   "source": [
    "PAD = 0; SOS = 1\n",
    "\n",
    "\n",
    "def toks2ids(sentences):\n",
    "    voc_cnt = collections.Counter(t for sent in sentences for t in sent)\n",
    "    vocab = sorted(voc_cnt, key=voc_cnt.get, reverse=True) # words in frequency order\n",
    "    vocab.insert(PAD, \"<PAD>\")\n",
    "    vocab.insert(SOS, \"<SOS>\")\n",
    "    w2id = {w:i for i,w in enumerate(vocab)}\n",
    "    ids = [[w2id[t] for t in sent] for sent in sentences]\n",
    "    return ids, vocab, w2id, voc_cnt"
   ]
  },
  {
   "cell_type": "code",
   "execution_count": 60,
   "metadata": {},
   "outputs": [],
   "source": [
    "ids, vocab, w2id, voc_cnt = toks2ids(tokens)"
   ]
  },
  {
   "cell_type": "code",
   "execution_count": 63,
   "metadata": {},
   "outputs": [
    {
     "data": {
      "text/plain": [
       "['<PAD>', '<SOS>', '.']"
      ]
     },
     "execution_count": 63,
     "metadata": {},
     "output_type": "execute_result"
    }
   ],
   "source": [
    "vocab[:3]"
   ]
  },
  {
   "cell_type": "code",
   "execution_count": 65,
   "metadata": {},
   "outputs": [
    {
     "data": {
      "text/plain": [
       "(0, 1, 2)"
      ]
     },
     "execution_count": 65,
     "metadata": {},
     "output_type": "execute_result"
    }
   ],
   "source": [
    "w2id[\"<PAD>\"], w2id[\"<SOS>\"], w2id[\".\"]"
   ]
  },
  {
   "cell_type": "code",
   "execution_count": 67,
   "metadata": {},
   "outputs": [
    {
     "data": {
      "text/plain": [
       "6"
      ]
     },
     "execution_count": 67,
     "metadata": {},
     "output_type": "execute_result"
    }
   ],
   "source": [
    "voc_cnt[\".\"]"
   ]
  },
  {
   "cell_type": "code",
   "execution_count": 68,
   "metadata": {},
   "outputs": [
    {
     "data": {
      "text/plain": [
       "[[5, 13, 14, 3, 15, 16, 17, 2],\n",
       " [6, 7, 18, 3, 19, 3, 20, 21, 22, 23, 2],\n",
       " [24, 8, 4, 9, 10, 11, 25, 26, 27, 28, 29, 30, 11, 31, 12, 2],\n",
       " [32, 8, 4, 9, 10, 33, 34, 35, 36, 12, 37, 38, 39, 40, 41, 42, 43, 6, 7, 2],\n",
       " [44, 45, 46, 2],\n",
       " [4, 47, 48, 49, 5, 50, 51, 2]]"
      ]
     },
     "execution_count": 68,
     "metadata": {},
     "output_type": "execute_result"
    }
   ],
   "source": [
    "ids"
   ]
  },
  {
   "cell_type": "code",
   "execution_count": 78,
   "metadata": {},
   "outputs": [
    {
     "data": {
      "text/plain": [
       "'all this happened , more or less .'"
      ]
     },
     "execution_count": 78,
     "metadata": {},
     "output_type": "execute_result"
    }
   ],
   "source": [
    "\" \".join([vocab[v] for v in ids[0]])"
   ]
  },
  {
   "cell_type": "code",
   "execution_count": 77,
   "metadata": {},
   "outputs": [
    {
     "data": {
      "text/plain": [
       "'all this happened , more or less .'"
      ]
     },
     "execution_count": 77,
     "metadata": {},
     "output_type": "execute_result"
    }
   ],
   "source": [
    "\" \".join(tokens[0])"
   ]
  },
  {
   "cell_type": "code",
   "execution_count": 79,
   "metadata": {},
   "outputs": [
    {
     "data": {
      "text/plain": [
       "['<PAD>',\n",
       " '<SOS>',\n",
       " '.',\n",
       " ',',\n",
       " 'i',\n",
       " 'all',\n",
       " 'the',\n",
       " 'war',\n",
       " 'guy',\n",
       " 'knew',\n",
       " 'really',\n",
       " 'was',\n",
       " 'his',\n",
       " 'this',\n",
       " 'happened',\n",
       " 'more',\n",
       " 'or',\n",
       " 'less',\n",
       " 'parts',\n",
       " 'anyway',\n",
       " 'are',\n",
       " 'pretty',\n",
       " 'much',\n",
       " 'true',\n",
       " 'one',\n",
       " 'shot',\n",
       " 'for',\n",
       " 'taking',\n",
       " 'a',\n",
       " 'teapot',\n",
       " 'that',\n",
       " \"n't\",\n",
       " 'another',\n",
       " 'did',\n",
       " 'threaten',\n",
       " 'to',\n",
       " 'have',\n",
       " 'personal',\n",
       " 'enemies',\n",
       " 'killed',\n",
       " 'by',\n",
       " 'hired',\n",
       " 'gunmen',\n",
       " 'after',\n",
       " 'and',\n",
       " 'so',\n",
       " 'on',\n",
       " \"'\",\n",
       " 've',\n",
       " 'changed',\n",
       " 'their',\n",
       " 'names']"
      ]
     },
     "execution_count": 79,
     "metadata": {},
     "output_type": "execute_result"
    }
   ],
   "source": [
    "vocab"
   ]
  },
  {
   "cell_type": "code",
   "execution_count": 80,
   "metadata": {},
   "outputs": [
    {
     "data": {
      "text/plain": [
       "{'<PAD>': 0,\n",
       " '<SOS>': 1,\n",
       " '.': 2,\n",
       " ',': 3,\n",
       " 'i': 4,\n",
       " 'all': 5,\n",
       " 'the': 6,\n",
       " 'war': 7,\n",
       " 'guy': 8,\n",
       " 'knew': 9,\n",
       " 'really': 10,\n",
       " 'was': 11,\n",
       " 'his': 12,\n",
       " 'this': 13,\n",
       " 'happened': 14,\n",
       " 'more': 15,\n",
       " 'or': 16,\n",
       " 'less': 17,\n",
       " 'parts': 18,\n",
       " 'anyway': 19,\n",
       " 'are': 20,\n",
       " 'pretty': 21,\n",
       " 'much': 22,\n",
       " 'true': 23,\n",
       " 'one': 24,\n",
       " 'shot': 25,\n",
       " 'for': 26,\n",
       " 'taking': 27,\n",
       " 'a': 28,\n",
       " 'teapot': 29,\n",
       " 'that': 30,\n",
       " \"n't\": 31,\n",
       " 'another': 32,\n",
       " 'did': 33,\n",
       " 'threaten': 34,\n",
       " 'to': 35,\n",
       " 'have': 36,\n",
       " 'personal': 37,\n",
       " 'enemies': 38,\n",
       " 'killed': 39,\n",
       " 'by': 40,\n",
       " 'hired': 41,\n",
       " 'gunmen': 42,\n",
       " 'after': 43,\n",
       " 'and': 44,\n",
       " 'so': 45,\n",
       " 'on': 46,\n",
       " \"'\": 47,\n",
       " 've': 48,\n",
       " 'changed': 49,\n",
       " 'their': 50,\n",
       " 'names': 51}"
      ]
     },
     "execution_count": 80,
     "metadata": {},
     "output_type": "execute_result"
    }
   ],
   "source": [
    "w2id"
   ]
  },
  {
   "cell_type": "code",
   "execution_count": 82,
   "metadata": {},
   "outputs": [
    {
     "data": {
      "text/plain": [
       "'😊🎦 😊🍕'"
      ]
     },
     "execution_count": 82,
     "metadata": {},
     "output_type": "execute_result"
    }
   ],
   "source": [
    "message = \"😒🎦 🤢🍕\"\n",
    "re_frown = re.compile(r\"😒|🤢\")\n",
    "re_frown.sub(r\"😊\", message)"
   ]
  },
  {
   "cell_type": "code",
   "execution_count": null,
   "metadata": {},
   "outputs": [],
   "source": []
  }
 ],
 "metadata": {
  "kernelspec": {
   "display_name": "Python 3",
   "language": "python",
   "name": "python3"
  },
  "language_info": {
   "codemirror_mode": {
    "name": "ipython",
    "version": 3
   },
   "file_extension": ".py",
   "mimetype": "text/x-python",
   "name": "python",
   "nbconvert_exporter": "python",
   "pygments_lexer": "ipython3",
   "version": "3.7.4"
  }
 },
 "nbformat": 4,
 "nbformat_minor": 2
}
